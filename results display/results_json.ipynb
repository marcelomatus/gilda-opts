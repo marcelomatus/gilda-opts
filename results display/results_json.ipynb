{
 "cells": [
  {
   "cell_type": "code",
   "execution_count": 39,
   "metadata": {},
   "outputs": [],
   "source": [
    "# Librerias\n",
    "\n",
    "import numpy as np\n",
    "import pandas as pd\n",
    "import matplotlib.pyplot as plt\n",
    "from matplotlib.patches import Patch\n",
    "import plotly.graph_objs as go\n",
    "from plotly.subplots import make_subplots\n",
    "from datetime import datetime, timedelta, time\n",
    "import json"
   ]
  },
  {
   "cell_type": "code",
   "execution_count": 49,
   "metadata": {},
   "outputs": [],
   "source": [
    "def graph(json_file_in, json_file_out, initial_hour):\n",
    "    with open(json_file_out, 'r') as file:\n",
    "        data = json.load(file)\n",
    "\n",
    "    grids_df = pd.DataFrame(data['grids']) if 'grids' in data else pd.DataFrame()\n",
    "\n",
    "    demands_df = pd.DataFrame(data['demands']) if 'demands' in data else pd.DataFrame()\n",
    "\n",
    "    tssas_df = pd.DataFrame(data['tssas']) if 'tssas' in data else pd.DataFrame()\n",
    "\n",
    "    besss_df = pd.DataFrame(data['besss']) if 'besss' in data else pd.DataFrame()\n",
    "\n",
    "    local_sources_df = pd.DataFrame(data['local_sources']) if 'local_sources' in data else pd.DataFrame()\n",
    "\n",
    "    electric_cars_df = pd.DataFrame(data['electric_cars']) if 'electric_cars' in data else pd.DataFrame()\n",
    "\n",
    "    cesas_df = pd.DataFrame(data['cesas']) if 'cesas' in data else pd.DataFrame()\n",
    "\n",
    "    grids_tariff_df = pd.DataFrame(data['grids']) if 'grids' in data else pd.DataFrame()\n",
    "\n",
    "    with open(json_file_in, 'r') as file:\n",
    "        data = json.load(file)\n",
    "    \n",
    "    grids_tariff_IN_df = pd.DataFrame(data['grids']) if 'grids' in data else pd.DataFrame()\n",
    "\n",
    "    cesas_IN_df = pd.DataFrame(data['cesas']) if 'cesas' in data else pd.DataFrame()\n",
    "\n",
    "    tssas_IN_df = pd.DataFrame(data['tssas']) if 'tssas' in data else pd.DataFrame()\n",
    "\n",
    "    # Tarifa\n",
    "\n",
    "    initial_time = datetime.strptime(initial_hour, \"%H:%M\")\n",
    "    num_values = len(grids_tariff_IN_df['energy_buy_price_sched'][0])\n",
    "    \n",
    " \n",
    "    hours = [initial_time + timedelta(hours=i) for i in range(num_values)]\n",
    "    energy_tariffs = grids_tariff_IN_df['energy_buy_price_sched'][0]\n",
    "    power_factors = grids_tariff_IN_df['power_factor_sched'][0]\n",
    "\n",
    "\n",
    "    hours_str = []\n",
    "    day_counter = 1\n",
    "    for i in range(num_values):\n",
    "        if i % 24 == 0 and i != 0:\n",
    "            day_counter += 1\n",
    "        hours_str.append(f'Día {day_counter} {hours[i].strftime(\"%H:%M\")}')\n",
    "\n",
    "    fig = go.Figure()\n",
    "\n",
    "    segment_start = 0\n",
    "    current_color = 'blue'\n",
    "\n",
    "    for i in range(1, num_values):\n",
    "        new_color = 'red' if power_factors[i] == 1 else 'blue'\n",
    "        \n",
    "        if new_color != current_color:\n",
    "            fig.add_trace(go.Scatter(\n",
    "                x=hours_str[segment_start:i+1],\n",
    "                y=energy_tariffs[segment_start:i+1],\n",
    "                mode='lines',\n",
    "                line=dict(color=current_color),\n",
    "                name='Energy Tariffs' if segment_start == 0 else '',\n",
    "                showlegend=segment_start == 0\n",
    "            ))\n",
    "            segment_start = i\n",
    "            current_color = new_color\n",
    "\n",
    "    fig.add_trace(go.Scatter(\n",
    "        x=hours_str[segment_start:num_values],\n",
    "        y=energy_tariffs[segment_start:num_values],\n",
    "        mode='lines',\n",
    "        line=dict(color=current_color),\n",
    "        name='Energy Tariffs' if segment_start == 0 else '',\n",
    "        showlegend=segment_start == 0\n",
    "    ))\n",
    "\n",
    "    fig.update_layout(\n",
    "        title='Precio energía',\n",
    "        xaxis_title='Tiempo',\n",
    "        yaxis_title='CLP/kWh',\n",
    "        legend_title='Leyenda',\n",
    "        xaxis=dict(tickangle=90),\n",
    "        template='plotly_white'\n",
    "    )\n",
    "    fig.show()\n",
    "\n",
    "    # Baterías\n",
    "\n",
    "    num_values = len(besss_df['efin_values'][0])\n",
    "    hours = [initial_time + timedelta(hours=i) for i in range(num_values)]\n",
    "\n",
    "    efin_values = besss_df['efin_values'][0]\n",
    "    inflow_values = besss_df['flow_in_values'][0]\n",
    "    outflow_values = [-value for value in besss_df['flow_out_values'][0]] \n",
    "\n",
    "    # Convertir horas a string con etiqueta de días\n",
    "    hours_str = []\n",
    "    day_counter = 1\n",
    "    for i in range(num_values):\n",
    "        if i % 24 == 0 and i != 0:\n",
    "            day_counter += 1\n",
    "        hours_str.append(f'Día {day_counter} {hours[i].strftime(\"%H:%M\")}')\n",
    "\n",
    "    fig = go.Figure()\n",
    "\n",
    "    fig.add_trace(go.Scatter(\n",
    "        x=hours_str,\n",
    "        y=efin_values,\n",
    "        mode='lines',\n",
    "        name='Efin Values'\n",
    "    ))\n",
    "\n",
    "    fig.add_trace(go.Scatter(\n",
    "        x=hours_str,\n",
    "        y=inflow_values,\n",
    "        mode='lines',\n",
    "        name='Inflow Values'\n",
    "    ))\n",
    "\n",
    "    fig.add_trace(go.Scatter(\n",
    "        x=hours_str,\n",
    "        y=outflow_values,\n",
    "        mode='lines',\n",
    "        name='Outflow Values'\n",
    "    ))\n",
    "\n",
    "    fig.update_layout(\n",
    "        title='BESSS',\n",
    "        xaxis_title='Tiempo',\n",
    "        yaxis_title='kW',\n",
    "        legend_title='Leyenda',\n",
    "        xaxis=dict(tickangle=90),\n",
    "        template='plotly_white'\n",
    "    )\n",
    "\n",
    "    fig.show()\n",
    "\n",
    "    # Consumos - inyecciones\n",
    "\n",
    "    num_values = len(demands_df['load_values'][0])\n",
    "    hours = [initial_time + timedelta(hours=i) for i in range(num_values)]\n",
    "\n",
    "    hours_str = []\n",
    "    day_counter = 1\n",
    "    for i in range(num_values):\n",
    "        if i % 24 == 0 and i != 0:\n",
    "            day_counter += 1\n",
    "        hours_str.append(f'Día {day_counter} {hours[i].strftime(\"%H:%M\")}')\n",
    "\n",
    "    load_values = demands_df['load_values'][0]\n",
    "\n",
    "    power_values = {}\n",
    "    for index, row in tssas_IN_df.iterrows():\n",
    "        tssa_name = row['name']\n",
    "        power_values[tssa_name] = row['load']\n",
    "\n",
    "    for index, row in cesas_IN_df.iterrows():\n",
    "        cesas_name = row['name']\n",
    "        power_values[cesas_name] = row['load']\n",
    "\n",
    "    fig = go.Figure()\n",
    "\n",
    "    fig.add_trace(go.Scatter(\n",
    "        x=hours_str,\n",
    "        y=load_values,\n",
    "        mode='lines',\n",
    "        name='Consumo: d1'\n",
    "    ))\n",
    "\n",
    "    total_values = [0] * num_values\n",
    "\n",
    "    total_injection_values = [0] * num_values\n",
    "    for index, row in tssas_df.iterrows():\n",
    "        tssa_name = row['name']\n",
    "        tssa_values = [value * power_values[tssa_name] for value in row['onoff_values']]\n",
    "        fig.add_trace(go.Scatter(\n",
    "            x=hours_str,\n",
    "            y=tssa_values,\n",
    "            mode='lines',\n",
    "            name=f'Consumo: {tssa_name}'\n",
    "        ))\n",
    "\n",
    "        total_values = [total + tssa for total, tssa in zip(total_values, tssa_values)]\n",
    "\n",
    "\n",
    "    for index, row in electric_cars_df.iterrows():\n",
    "        car_name = row['name']\n",
    "        flow_in = row['battery_flow_in_values']\n",
    "        fig.add_trace(go.Scatter(\n",
    "            x=hours_str,\n",
    "            y=flow_in,\n",
    "            mode='lines',\n",
    "            name=f'Consumo: {car_name}'\n",
    "        ))\n",
    "\n",
    "        total_values = [total + ves for total, ves in zip(total_values, flow_in)]\n",
    "\n",
    "    for index, row in cesas_df.iterrows():\n",
    "        cesas_name = row['name']\n",
    "        flow_cesas = row['onoff_values']\n",
    "        flow_cesas = pd.Series(flow_cesas) * 2\n",
    "        fig.add_trace(go.Scatter(\n",
    "            x=hours_str,\n",
    "            y=flow_cesas,\n",
    "            mode='lines',\n",
    "            name=f'Consumo: {cesas_name}'\n",
    "        ))\n",
    "\n",
    "        total_values = [total + ves for total, ves in zip(total_values, flow_cesas)]\n",
    "\n",
    "    total_values = [total + load for total, load in zip(total_values, load_values)]\n",
    "\n",
    "    fig.add_trace(go.Scatter(\n",
    "        x=hours_str,\n",
    "        y=total_values,\n",
    "        mode='lines',\n",
    "        name='Consumo total'\n",
    "    ))\n",
    "    for index, row in local_sources_df.iterrows():\n",
    "        injection_values = row['generation_values']\n",
    "        fig.add_trace(go.Scatter(\n",
    "            x=hours_str,\n",
    "            y=injection_values,\n",
    "            mode='lines',\n",
    "            name=f'Inyección: {row[\"name\"]}'\n",
    "        ))\n",
    "        total_injection_values = [total + injection for total, injection in zip(total_injection_values, injection_values)]\n",
    "\n",
    "    for index, row in besss_df.iterrows():\n",
    "        outflow_values = row['flow_out_values']\n",
    "        fig.add_trace(go.Scatter(\n",
    "            x=hours_str,\n",
    "            y=outflow_values,\n",
    "            mode='lines',\n",
    "            name=f'Inyección: {row[\"name\"]}'\n",
    "        ))\n",
    "\n",
    "        total_injection_values = [total + outflow for total, outflow in zip(total_injection_values, outflow_values)]\n",
    "\n",
    "    for index, row in grids_tariff_df.iterrows():\n",
    "        injection_values = row['withdrawn_values']\n",
    "        fig.add_trace(go.Scatter(\n",
    "            x=hours_str,\n",
    "            y=injection_values,\n",
    "            mode='lines',\n",
    "            name=f'Inyección: {row[\"name\"]}'\n",
    "        ))\n",
    "\n",
    "        total_injection_values = [total + injection for total, injection in zip(total_injection_values, injection_values)]\n",
    "    fig.add_trace(go.Scatter(\n",
    "        x=hours_str,\n",
    "        y=total_injection_values,\n",
    "        mode='lines',\n",
    "        name='Inyección total'\n",
    "    ))\n",
    "    fig.update_layout(\n",
    "        title='Resultados',\n",
    "        xaxis_title='Tiempo',\n",
    "        yaxis_title='kW',\n",
    "        legend_title='Leyenda',\n",
    "        xaxis_rangeslider_visible=True,\n",
    "        xaxis=dict(tickangle=90),\n",
    "        template='plotly_white'\n",
    "    )\n",
    "    fig.show()\n"
   ]
  },
  {
   "cell_type": "code",
   "execution_count": 51,
   "metadata": {},
   "outputs": [
    {
     "data": {
      "application/vnd.plotly.v1+json": {
       "config": {
        "plotlyServerURL": "https://plot.ly"
       },
       "data": [
        {
         "line": {
          "color": "blue"
         },
         "mode": "lines",
         "name": "Energy Tariffs",
         "showlegend": true,
         "type": "scatter",
         "x": [
          "Día 1 01:00",
          "Día 1 02:00",
          "Día 1 03:00",
          "Día 1 04:00",
          "Día 1 05:00",
          "Día 1 06:00",
          "Día 1 07:00",
          "Día 1 08:00",
          "Día 1 09:00",
          "Día 1 10:00",
          "Día 1 11:00",
          "Día 1 12:00",
          "Día 1 13:00",
          "Día 1 14:00",
          "Día 1 15:00",
          "Día 1 16:00",
          "Día 1 17:00",
          "Día 1 18:00"
         ],
         "y": [
          135,
          119,
          112,
          127,
          111,
          111,
          108,
          79,
          39,
          34,
          34,
          33,
          33,
          34,
          34,
          34,
          33,
          36
         ]
        },
        {
         "line": {
          "color": "red"
         },
         "mode": "lines",
         "name": "",
         "showlegend": false,
         "type": "scatter",
         "x": [
          "Día 1 18:00",
          "Día 1 19:00",
          "Día 1 20:00",
          "Día 1 21:00",
          "Día 1 22:00",
          "Día 1 23:00"
         ],
         "y": [
          36,
          42,
          58,
          80,
          100,
          87
         ]
        },
        {
         "line": {
          "color": "blue"
         },
         "mode": "lines",
         "name": "",
         "showlegend": false,
         "type": "scatter",
         "x": [
          "Día 1 23:00",
          "Día 1 00:00",
          "Día 2 01:00",
          "Día 2 02:00",
          "Día 2 03:00",
          "Día 2 04:00",
          "Día 2 05:00",
          "Día 2 06:00",
          "Día 2 07:00",
          "Día 2 08:00",
          "Día 2 09:00",
          "Día 2 10:00",
          "Día 2 11:00",
          "Día 2 12:00",
          "Día 2 13:00",
          "Día 2 14:00",
          "Día 2 15:00",
          "Día 2 16:00",
          "Día 2 17:00",
          "Día 2 18:00"
         ],
         "y": [
          87,
          139,
          135,
          119,
          112,
          127,
          111,
          111,
          108,
          79,
          39,
          34,
          34,
          33,
          33,
          34,
          34,
          34,
          33,
          36
         ]
        },
        {
         "line": {
          "color": "red"
         },
         "mode": "lines",
         "name": "",
         "showlegend": false,
         "type": "scatter",
         "x": [
          "Día 2 18:00",
          "Día 2 19:00",
          "Día 2 20:00",
          "Día 2 21:00",
          "Día 2 22:00",
          "Día 2 23:00"
         ],
         "y": [
          36,
          42,
          58,
          80,
          100,
          87
         ]
        },
        {
         "line": {
          "color": "blue"
         },
         "mode": "lines",
         "name": "",
         "showlegend": false,
         "type": "scatter",
         "x": [
          "Día 2 23:00",
          "Día 2 00:00",
          "Día 3 01:00",
          "Día 3 02:00",
          "Día 3 03:00",
          "Día 3 04:00",
          "Día 3 05:00",
          "Día 3 06:00",
          "Día 3 07:00",
          "Día 3 08:00",
          "Día 3 09:00",
          "Día 3 10:00",
          "Día 3 11:00",
          "Día 3 12:00",
          "Día 3 13:00",
          "Día 3 14:00",
          "Día 3 15:00",
          "Día 3 16:00",
          "Día 3 17:00"
         ],
         "y": [
          87,
          139,
          135,
          119,
          112,
          127,
          111,
          111,
          108,
          79,
          39,
          34,
          34,
          33,
          33,
          34,
          34,
          34,
          33
         ]
        },
        {
         "line": {
          "color": "red"
         },
         "mode": "lines",
         "name": "",
         "showlegend": false,
         "type": "scatter",
         "x": [
          "Día 3 17:00",
          "Día 3 18:00",
          "Día 3 19:00",
          "Día 3 20:00",
          "Día 3 21:00",
          "Día 3 22:00"
         ],
         "y": [
          33,
          36,
          42,
          58,
          80,
          100
         ]
        },
        {
         "line": {
          "color": "blue"
         },
         "mode": "lines",
         "name": "",
         "showlegend": false,
         "type": "scatter",
         "x": [
          "Día 3 22:00",
          "Día 3 23:00",
          "Día 3 00:00",
          "Día 4 01:00",
          "Día 4 02:00",
          "Día 4 03:00",
          "Día 4 04:00",
          "Día 4 05:00",
          "Día 4 06:00",
          "Día 4 07:00",
          "Día 4 08:00",
          "Día 4 09:00",
          "Día 4 10:00",
          "Día 4 11:00",
          "Día 4 12:00",
          "Día 4 13:00",
          "Día 4 14:00",
          "Día 4 15:00",
          "Día 4 16:00"
         ],
         "y": [
          100,
          87,
          139,
          135,
          119,
          112,
          127,
          111,
          111,
          108,
          79,
          39,
          34,
          34,
          33,
          33,
          34,
          34,
          34
         ]
        },
        {
         "line": {
          "color": "red"
         },
         "mode": "lines",
         "name": "",
         "showlegend": false,
         "type": "scatter",
         "x": [
          "Día 4 16:00",
          "Día 4 17:00",
          "Día 4 18:00",
          "Día 4 19:00",
          "Día 4 20:00",
          "Día 4 21:00"
         ],
         "y": [
          34,
          33,
          36,
          42,
          58,
          80
         ]
        },
        {
         "line": {
          "color": "blue"
         },
         "mode": "lines",
         "name": "",
         "showlegend": false,
         "type": "scatter",
         "x": [
          "Día 4 21:00",
          "Día 4 22:00",
          "Día 4 23:00",
          "Día 4 00:00",
          "Día 5 01:00",
          "Día 5 02:00",
          "Día 5 03:00",
          "Día 5 04:00",
          "Día 5 05:00",
          "Día 5 06:00",
          "Día 5 07:00",
          "Día 5 08:00",
          "Día 5 09:00",
          "Día 5 10:00",
          "Día 5 11:00",
          "Día 5 12:00",
          "Día 5 13:00",
          "Día 5 14:00",
          "Día 5 15:00"
         ],
         "y": [
          80,
          100,
          87,
          139,
          135,
          119,
          112,
          127,
          111,
          111,
          108,
          79,
          39,
          34,
          34,
          33,
          33,
          34,
          34
         ]
        },
        {
         "line": {
          "color": "red"
         },
         "mode": "lines",
         "name": "",
         "showlegend": false,
         "type": "scatter",
         "x": [
          "Día 5 15:00",
          "Día 5 16:00",
          "Día 5 17:00",
          "Día 5 18:00",
          "Día 5 19:00",
          "Día 5 20:00"
         ],
         "y": [
          34,
          34,
          33,
          36,
          42,
          58
         ]
        },
        {
         "line": {
          "color": "blue"
         },
         "mode": "lines",
         "name": "",
         "showlegend": false,
         "type": "scatter",
         "x": [
          "Día 5 20:00",
          "Día 5 21:00",
          "Día 5 22:00",
          "Día 5 23:00",
          "Día 5 00:00",
          "Día 6 01:00",
          "Día 6 02:00",
          "Día 6 03:00",
          "Día 6 04:00",
          "Día 6 05:00",
          "Día 6 06:00",
          "Día 6 07:00",
          "Día 6 08:00",
          "Día 6 09:00",
          "Día 6 10:00",
          "Día 6 11:00",
          "Día 6 12:00",
          "Día 6 13:00",
          "Día 6 14:00"
         ],
         "y": [
          58,
          80,
          100,
          87,
          139,
          135,
          119,
          112,
          127,
          111,
          111,
          108,
          79,
          39,
          34,
          34,
          33,
          33,
          34
         ]
        },
        {
         "line": {
          "color": "red"
         },
         "mode": "lines",
         "name": "",
         "showlegend": false,
         "type": "scatter",
         "x": [
          "Día 6 14:00",
          "Día 6 15:00",
          "Día 6 16:00",
          "Día 6 17:00",
          "Día 6 18:00",
          "Día 6 19:00"
         ],
         "y": [
          34,
          34,
          34,
          33,
          36,
          42
         ]
        },
        {
         "line": {
          "color": "blue"
         },
         "mode": "lines",
         "name": "",
         "showlegend": false,
         "type": "scatter",
         "x": [
          "Día 6 19:00",
          "Día 6 20:00",
          "Día 6 21:00",
          "Día 6 22:00",
          "Día 6 23:00",
          "Día 6 00:00",
          "Día 7 01:00",
          "Día 7 02:00",
          "Día 7 03:00",
          "Día 7 04:00",
          "Día 7 05:00",
          "Día 7 06:00",
          "Día 7 07:00",
          "Día 7 08:00",
          "Día 7 09:00",
          "Día 7 10:00",
          "Día 7 11:00",
          "Día 7 12:00",
          "Día 7 13:00"
         ],
         "y": [
          42,
          58,
          80,
          100,
          87,
          139,
          135,
          119,
          112,
          127,
          111,
          111,
          108,
          79,
          39,
          34,
          34,
          33,
          33
         ]
        },
        {
         "line": {
          "color": "red"
         },
         "mode": "lines",
         "name": "",
         "showlegend": false,
         "type": "scatter",
         "x": [
          "Día 7 13:00",
          "Día 7 14:00",
          "Día 7 15:00",
          "Día 7 16:00",
          "Día 7 17:00",
          "Día 7 18:00"
         ],
         "y": [
          33,
          34,
          34,
          34,
          33,
          36
         ]
        },
        {
         "line": {
          "color": "blue"
         },
         "mode": "lines",
         "name": "",
         "showlegend": false,
         "type": "scatter",
         "x": [
          "Día 7 18:00",
          "Día 7 19:00",
          "Día 7 20:00",
          "Día 7 21:00",
          "Día 7 22:00",
          "Día 7 23:00"
         ],
         "y": [
          36,
          42,
          58,
          80,
          100,
          87
         ]
        }
       ],
       "layout": {
        "legend": {
         "title": {
          "text": "Leyenda"
         }
        },
        "template": {
         "data": {
          "bar": [
           {
            "error_x": {
             "color": "#2a3f5f"
            },
            "error_y": {
             "color": "#2a3f5f"
            },
            "marker": {
             "line": {
              "color": "white",
              "width": 0.5
             },
             "pattern": {
              "fillmode": "overlay",
              "size": 10,
              "solidity": 0.2
             }
            },
            "type": "bar"
           }
          ],
          "barpolar": [
           {
            "marker": {
             "line": {
              "color": "white",
              "width": 0.5
             },
             "pattern": {
              "fillmode": "overlay",
              "size": 10,
              "solidity": 0.2
             }
            },
            "type": "barpolar"
           }
          ],
          "carpet": [
           {
            "aaxis": {
             "endlinecolor": "#2a3f5f",
             "gridcolor": "#C8D4E3",
             "linecolor": "#C8D4E3",
             "minorgridcolor": "#C8D4E3",
             "startlinecolor": "#2a3f5f"
            },
            "baxis": {
             "endlinecolor": "#2a3f5f",
             "gridcolor": "#C8D4E3",
             "linecolor": "#C8D4E3",
             "minorgridcolor": "#C8D4E3",
             "startlinecolor": "#2a3f5f"
            },
            "type": "carpet"
           }
          ],
          "choropleth": [
           {
            "colorbar": {
             "outlinewidth": 0,
             "ticks": ""
            },
            "type": "choropleth"
           }
          ],
          "contour": [
           {
            "colorbar": {
             "outlinewidth": 0,
             "ticks": ""
            },
            "colorscale": [
             [
              0,
              "#0d0887"
             ],
             [
              0.1111111111111111,
              "#46039f"
             ],
             [
              0.2222222222222222,
              "#7201a8"
             ],
             [
              0.3333333333333333,
              "#9c179e"
             ],
             [
              0.4444444444444444,
              "#bd3786"
             ],
             [
              0.5555555555555556,
              "#d8576b"
             ],
             [
              0.6666666666666666,
              "#ed7953"
             ],
             [
              0.7777777777777778,
              "#fb9f3a"
             ],
             [
              0.8888888888888888,
              "#fdca26"
             ],
             [
              1,
              "#f0f921"
             ]
            ],
            "type": "contour"
           }
          ],
          "contourcarpet": [
           {
            "colorbar": {
             "outlinewidth": 0,
             "ticks": ""
            },
            "type": "contourcarpet"
           }
          ],
          "heatmap": [
           {
            "colorbar": {
             "outlinewidth": 0,
             "ticks": ""
            },
            "colorscale": [
             [
              0,
              "#0d0887"
             ],
             [
              0.1111111111111111,
              "#46039f"
             ],
             [
              0.2222222222222222,
              "#7201a8"
             ],
             [
              0.3333333333333333,
              "#9c179e"
             ],
             [
              0.4444444444444444,
              "#bd3786"
             ],
             [
              0.5555555555555556,
              "#d8576b"
             ],
             [
              0.6666666666666666,
              "#ed7953"
             ],
             [
              0.7777777777777778,
              "#fb9f3a"
             ],
             [
              0.8888888888888888,
              "#fdca26"
             ],
             [
              1,
              "#f0f921"
             ]
            ],
            "type": "heatmap"
           }
          ],
          "heatmapgl": [
           {
            "colorbar": {
             "outlinewidth": 0,
             "ticks": ""
            },
            "colorscale": [
             [
              0,
              "#0d0887"
             ],
             [
              0.1111111111111111,
              "#46039f"
             ],
             [
              0.2222222222222222,
              "#7201a8"
             ],
             [
              0.3333333333333333,
              "#9c179e"
             ],
             [
              0.4444444444444444,
              "#bd3786"
             ],
             [
              0.5555555555555556,
              "#d8576b"
             ],
             [
              0.6666666666666666,
              "#ed7953"
             ],
             [
              0.7777777777777778,
              "#fb9f3a"
             ],
             [
              0.8888888888888888,
              "#fdca26"
             ],
             [
              1,
              "#f0f921"
             ]
            ],
            "type": "heatmapgl"
           }
          ],
          "histogram": [
           {
            "marker": {
             "pattern": {
              "fillmode": "overlay",
              "size": 10,
              "solidity": 0.2
             }
            },
            "type": "histogram"
           }
          ],
          "histogram2d": [
           {
            "colorbar": {
             "outlinewidth": 0,
             "ticks": ""
            },
            "colorscale": [
             [
              0,
              "#0d0887"
             ],
             [
              0.1111111111111111,
              "#46039f"
             ],
             [
              0.2222222222222222,
              "#7201a8"
             ],
             [
              0.3333333333333333,
              "#9c179e"
             ],
             [
              0.4444444444444444,
              "#bd3786"
             ],
             [
              0.5555555555555556,
              "#d8576b"
             ],
             [
              0.6666666666666666,
              "#ed7953"
             ],
             [
              0.7777777777777778,
              "#fb9f3a"
             ],
             [
              0.8888888888888888,
              "#fdca26"
             ],
             [
              1,
              "#f0f921"
             ]
            ],
            "type": "histogram2d"
           }
          ],
          "histogram2dcontour": [
           {
            "colorbar": {
             "outlinewidth": 0,
             "ticks": ""
            },
            "colorscale": [
             [
              0,
              "#0d0887"
             ],
             [
              0.1111111111111111,
              "#46039f"
             ],
             [
              0.2222222222222222,
              "#7201a8"
             ],
             [
              0.3333333333333333,
              "#9c179e"
             ],
             [
              0.4444444444444444,
              "#bd3786"
             ],
             [
              0.5555555555555556,
              "#d8576b"
             ],
             [
              0.6666666666666666,
              "#ed7953"
             ],
             [
              0.7777777777777778,
              "#fb9f3a"
             ],
             [
              0.8888888888888888,
              "#fdca26"
             ],
             [
              1,
              "#f0f921"
             ]
            ],
            "type": "histogram2dcontour"
           }
          ],
          "mesh3d": [
           {
            "colorbar": {
             "outlinewidth": 0,
             "ticks": ""
            },
            "type": "mesh3d"
           }
          ],
          "parcoords": [
           {
            "line": {
             "colorbar": {
              "outlinewidth": 0,
              "ticks": ""
             }
            },
            "type": "parcoords"
           }
          ],
          "pie": [
           {
            "automargin": true,
            "type": "pie"
           }
          ],
          "scatter": [
           {
            "fillpattern": {
             "fillmode": "overlay",
             "size": 10,
             "solidity": 0.2
            },
            "type": "scatter"
           }
          ],
          "scatter3d": [
           {
            "line": {
             "colorbar": {
              "outlinewidth": 0,
              "ticks": ""
             }
            },
            "marker": {
             "colorbar": {
              "outlinewidth": 0,
              "ticks": ""
             }
            },
            "type": "scatter3d"
           }
          ],
          "scattercarpet": [
           {
            "marker": {
             "colorbar": {
              "outlinewidth": 0,
              "ticks": ""
             }
            },
            "type": "scattercarpet"
           }
          ],
          "scattergeo": [
           {
            "marker": {
             "colorbar": {
              "outlinewidth": 0,
              "ticks": ""
             }
            },
            "type": "scattergeo"
           }
          ],
          "scattergl": [
           {
            "marker": {
             "colorbar": {
              "outlinewidth": 0,
              "ticks": ""
             }
            },
            "type": "scattergl"
           }
          ],
          "scattermapbox": [
           {
            "marker": {
             "colorbar": {
              "outlinewidth": 0,
              "ticks": ""
             }
            },
            "type": "scattermapbox"
           }
          ],
          "scatterpolar": [
           {
            "marker": {
             "colorbar": {
              "outlinewidth": 0,
              "ticks": ""
             }
            },
            "type": "scatterpolar"
           }
          ],
          "scatterpolargl": [
           {
            "marker": {
             "colorbar": {
              "outlinewidth": 0,
              "ticks": ""
             }
            },
            "type": "scatterpolargl"
           }
          ],
          "scatterternary": [
           {
            "marker": {
             "colorbar": {
              "outlinewidth": 0,
              "ticks": ""
             }
            },
            "type": "scatterternary"
           }
          ],
          "surface": [
           {
            "colorbar": {
             "outlinewidth": 0,
             "ticks": ""
            },
            "colorscale": [
             [
              0,
              "#0d0887"
             ],
             [
              0.1111111111111111,
              "#46039f"
             ],
             [
              0.2222222222222222,
              "#7201a8"
             ],
             [
              0.3333333333333333,
              "#9c179e"
             ],
             [
              0.4444444444444444,
              "#bd3786"
             ],
             [
              0.5555555555555556,
              "#d8576b"
             ],
             [
              0.6666666666666666,
              "#ed7953"
             ],
             [
              0.7777777777777778,
              "#fb9f3a"
             ],
             [
              0.8888888888888888,
              "#fdca26"
             ],
             [
              1,
              "#f0f921"
             ]
            ],
            "type": "surface"
           }
          ],
          "table": [
           {
            "cells": {
             "fill": {
              "color": "#EBF0F8"
             },
             "line": {
              "color": "white"
             }
            },
            "header": {
             "fill": {
              "color": "#C8D4E3"
             },
             "line": {
              "color": "white"
             }
            },
            "type": "table"
           }
          ]
         },
         "layout": {
          "annotationdefaults": {
           "arrowcolor": "#2a3f5f",
           "arrowhead": 0,
           "arrowwidth": 1
          },
          "autotypenumbers": "strict",
          "coloraxis": {
           "colorbar": {
            "outlinewidth": 0,
            "ticks": ""
           }
          },
          "colorscale": {
           "diverging": [
            [
             0,
             "#8e0152"
            ],
            [
             0.1,
             "#c51b7d"
            ],
            [
             0.2,
             "#de77ae"
            ],
            [
             0.3,
             "#f1b6da"
            ],
            [
             0.4,
             "#fde0ef"
            ],
            [
             0.5,
             "#f7f7f7"
            ],
            [
             0.6,
             "#e6f5d0"
            ],
            [
             0.7,
             "#b8e186"
            ],
            [
             0.8,
             "#7fbc41"
            ],
            [
             0.9,
             "#4d9221"
            ],
            [
             1,
             "#276419"
            ]
           ],
           "sequential": [
            [
             0,
             "#0d0887"
            ],
            [
             0.1111111111111111,
             "#46039f"
            ],
            [
             0.2222222222222222,
             "#7201a8"
            ],
            [
             0.3333333333333333,
             "#9c179e"
            ],
            [
             0.4444444444444444,
             "#bd3786"
            ],
            [
             0.5555555555555556,
             "#d8576b"
            ],
            [
             0.6666666666666666,
             "#ed7953"
            ],
            [
             0.7777777777777778,
             "#fb9f3a"
            ],
            [
             0.8888888888888888,
             "#fdca26"
            ],
            [
             1,
             "#f0f921"
            ]
           ],
           "sequentialminus": [
            [
             0,
             "#0d0887"
            ],
            [
             0.1111111111111111,
             "#46039f"
            ],
            [
             0.2222222222222222,
             "#7201a8"
            ],
            [
             0.3333333333333333,
             "#9c179e"
            ],
            [
             0.4444444444444444,
             "#bd3786"
            ],
            [
             0.5555555555555556,
             "#d8576b"
            ],
            [
             0.6666666666666666,
             "#ed7953"
            ],
            [
             0.7777777777777778,
             "#fb9f3a"
            ],
            [
             0.8888888888888888,
             "#fdca26"
            ],
            [
             1,
             "#f0f921"
            ]
           ]
          },
          "colorway": [
           "#636efa",
           "#EF553B",
           "#00cc96",
           "#ab63fa",
           "#FFA15A",
           "#19d3f3",
           "#FF6692",
           "#B6E880",
           "#FF97FF",
           "#FECB52"
          ],
          "font": {
           "color": "#2a3f5f"
          },
          "geo": {
           "bgcolor": "white",
           "lakecolor": "white",
           "landcolor": "white",
           "showlakes": true,
           "showland": true,
           "subunitcolor": "#C8D4E3"
          },
          "hoverlabel": {
           "align": "left"
          },
          "hovermode": "closest",
          "mapbox": {
           "style": "light"
          },
          "paper_bgcolor": "white",
          "plot_bgcolor": "white",
          "polar": {
           "angularaxis": {
            "gridcolor": "#EBF0F8",
            "linecolor": "#EBF0F8",
            "ticks": ""
           },
           "bgcolor": "white",
           "radialaxis": {
            "gridcolor": "#EBF0F8",
            "linecolor": "#EBF0F8",
            "ticks": ""
           }
          },
          "scene": {
           "xaxis": {
            "backgroundcolor": "white",
            "gridcolor": "#DFE8F3",
            "gridwidth": 2,
            "linecolor": "#EBF0F8",
            "showbackground": true,
            "ticks": "",
            "zerolinecolor": "#EBF0F8"
           },
           "yaxis": {
            "backgroundcolor": "white",
            "gridcolor": "#DFE8F3",
            "gridwidth": 2,
            "linecolor": "#EBF0F8",
            "showbackground": true,
            "ticks": "",
            "zerolinecolor": "#EBF0F8"
           },
           "zaxis": {
            "backgroundcolor": "white",
            "gridcolor": "#DFE8F3",
            "gridwidth": 2,
            "linecolor": "#EBF0F8",
            "showbackground": true,
            "ticks": "",
            "zerolinecolor": "#EBF0F8"
           }
          },
          "shapedefaults": {
           "line": {
            "color": "#2a3f5f"
           }
          },
          "ternary": {
           "aaxis": {
            "gridcolor": "#DFE8F3",
            "linecolor": "#A2B1C6",
            "ticks": ""
           },
           "baxis": {
            "gridcolor": "#DFE8F3",
            "linecolor": "#A2B1C6",
            "ticks": ""
           },
           "bgcolor": "white",
           "caxis": {
            "gridcolor": "#DFE8F3",
            "linecolor": "#A2B1C6",
            "ticks": ""
           }
          },
          "title": {
           "x": 0.05
          },
          "xaxis": {
           "automargin": true,
           "gridcolor": "#EBF0F8",
           "linecolor": "#EBF0F8",
           "ticks": "",
           "title": {
            "standoff": 15
           },
           "zerolinecolor": "#EBF0F8",
           "zerolinewidth": 2
          },
          "yaxis": {
           "automargin": true,
           "gridcolor": "#EBF0F8",
           "linecolor": "#EBF0F8",
           "ticks": "",
           "title": {
            "standoff": 15
           },
           "zerolinecolor": "#EBF0F8",
           "zerolinewidth": 2
          }
         }
        },
        "title": {
         "text": "Precio energía"
        },
        "xaxis": {
         "tickangle": 90,
         "title": {
          "text": "Tiempo"
         }
        },
        "yaxis": {
         "title": {
          "text": "CLP/kWh"
         }
        }
       }
      }
     },
     "metadata": {},
     "output_type": "display_data"
    },
    {
     "data": {
      "application/vnd.plotly.v1+json": {
       "config": {
        "plotlyServerURL": "https://plot.ly"
       },
       "data": [
        {
         "mode": "lines",
         "name": "Efin Values",
         "type": "scatter",
         "x": [
          "Día 1 01:00",
          "Día 1 02:00",
          "Día 1 03:00",
          "Día 1 04:00",
          "Día 1 05:00",
          "Día 1 06:00",
          "Día 1 07:00",
          "Día 1 08:00",
          "Día 1 09:00",
          "Día 1 10:00",
          "Día 1 11:00",
          "Día 1 12:00",
          "Día 1 13:00",
          "Día 1 14:00",
          "Día 1 15:00",
          "Día 1 16:00",
          "Día 1 17:00",
          "Día 1 18:00",
          "Día 1 19:00",
          "Día 1 20:00",
          "Día 1 21:00",
          "Día 1 22:00",
          "Día 1 23:00",
          "Día 1 00:00",
          "Día 2 01:00",
          "Día 2 02:00",
          "Día 2 03:00",
          "Día 2 04:00",
          "Día 2 05:00",
          "Día 2 06:00",
          "Día 2 07:00",
          "Día 2 08:00",
          "Día 2 09:00",
          "Día 2 10:00",
          "Día 2 11:00",
          "Día 2 12:00",
          "Día 2 13:00",
          "Día 2 14:00",
          "Día 2 15:00",
          "Día 2 16:00",
          "Día 2 17:00",
          "Día 2 18:00",
          "Día 2 19:00",
          "Día 2 20:00",
          "Día 2 21:00",
          "Día 2 22:00",
          "Día 2 23:00",
          "Día 2 00:00",
          "Día 3 01:00",
          "Día 3 02:00",
          "Día 3 03:00",
          "Día 3 04:00",
          "Día 3 05:00",
          "Día 3 06:00",
          "Día 3 07:00",
          "Día 3 08:00",
          "Día 3 09:00",
          "Día 3 10:00",
          "Día 3 11:00",
          "Día 3 12:00",
          "Día 3 13:00",
          "Día 3 14:00",
          "Día 3 15:00",
          "Día 3 16:00",
          "Día 3 17:00",
          "Día 3 18:00",
          "Día 3 19:00",
          "Día 3 20:00",
          "Día 3 21:00",
          "Día 3 22:00",
          "Día 3 23:00",
          "Día 3 00:00",
          "Día 4 01:00",
          "Día 4 02:00",
          "Día 4 03:00",
          "Día 4 04:00",
          "Día 4 05:00",
          "Día 4 06:00",
          "Día 4 07:00",
          "Día 4 08:00",
          "Día 4 09:00",
          "Día 4 10:00",
          "Día 4 11:00",
          "Día 4 12:00",
          "Día 4 13:00",
          "Día 4 14:00",
          "Día 4 15:00",
          "Día 4 16:00",
          "Día 4 17:00",
          "Día 4 18:00",
          "Día 4 19:00",
          "Día 4 20:00",
          "Día 4 21:00",
          "Día 4 22:00",
          "Día 4 23:00",
          "Día 4 00:00",
          "Día 5 01:00",
          "Día 5 02:00",
          "Día 5 03:00",
          "Día 5 04:00",
          "Día 5 05:00",
          "Día 5 06:00",
          "Día 5 07:00",
          "Día 5 08:00",
          "Día 5 09:00",
          "Día 5 10:00",
          "Día 5 11:00",
          "Día 5 12:00",
          "Día 5 13:00",
          "Día 5 14:00",
          "Día 5 15:00",
          "Día 5 16:00",
          "Día 5 17:00",
          "Día 5 18:00",
          "Día 5 19:00",
          "Día 5 20:00",
          "Día 5 21:00",
          "Día 5 22:00",
          "Día 5 23:00",
          "Día 5 00:00",
          "Día 6 01:00",
          "Día 6 02:00",
          "Día 6 03:00",
          "Día 6 04:00",
          "Día 6 05:00",
          "Día 6 06:00",
          "Día 6 07:00",
          "Día 6 08:00",
          "Día 6 09:00",
          "Día 6 10:00",
          "Día 6 11:00",
          "Día 6 12:00",
          "Día 6 13:00",
          "Día 6 14:00",
          "Día 6 15:00",
          "Día 6 16:00",
          "Día 6 17:00",
          "Día 6 18:00",
          "Día 6 19:00",
          "Día 6 20:00",
          "Día 6 21:00",
          "Día 6 22:00",
          "Día 6 23:00",
          "Día 6 00:00",
          "Día 7 01:00",
          "Día 7 02:00",
          "Día 7 03:00",
          "Día 7 04:00",
          "Día 7 05:00",
          "Día 7 06:00",
          "Día 7 07:00",
          "Día 7 08:00",
          "Día 7 09:00",
          "Día 7 10:00",
          "Día 7 11:00",
          "Día 7 12:00",
          "Día 7 13:00",
          "Día 7 14:00",
          "Día 7 15:00",
          "Día 7 16:00",
          "Día 7 17:00",
          "Día 7 18:00",
          "Día 7 19:00",
          "Día 7 20:00",
          "Día 7 21:00",
          "Día 7 22:00",
          "Día 7 23:00"
         ],
         "y": [
          0,
          0,
          0,
          0,
          0,
          0,
          0,
          0,
          2,
          4.25,
          6.5,
          8.75,
          11,
          13.25,
          15.5,
          17.75,
          20,
          19.684251,
          18.817109,
          17.876413,
          16.912243,
          15.980864,
          13.203086,
          12.336378,
          9.5585997,
          9.0453058,
          6.2675281,
          3.4897503,
          0.71197251,
          0.37128533,
          0,
          0,
          2,
          4.25,
          6.5,
          8.75,
          11,
          13.25,
          15.5,
          17.75,
          20,
          19.688971,
          18.830973,
          17.912884,
          15.135106,
          12.357328,
          9.5795502,
          7.5441659,
          6.926115,
          4.1483372,
          1.3705594,
          1.0081245,
          0.67883178,
          0.34466342,
          0,
          0,
          2.25,
          4.5,
          6.75,
          9,
          11.25,
          13.5,
          15.75,
          18,
          19.57298,
          19.225357,
          18.35397,
          17.433631,
          14.655853,
          11.878075,
          9.1002973,
          6.3225195,
          3.5447418,
          3.047768,
          2.6489467,
          1.0098069,
          0.68363144,
          0.35109127,
          0,
          0,
          2.25,
          4.5,
          6.75,
          9,
          11.25,
          13.5,
          15.75,
          18,
          19.604212,
          19.297325,
          18.451064,
          17.56056,
          14.782782,
          12.005004,
          9.2272267,
          6.4494489,
          3.6716711,
          3.1822995,
          1.370518,
          1.0113146,
          0.67864958,
          0.35305943,
          0,
          0,
          2.25,
          4.5,
          6.75,
          9,
          11.25,
          13.5,
          15.75,
          18,
          19.635675,
          19.381461,
          18.59723,
          20,
          17.222222,
          14.444444,
          11.666667,
          10.985814,
          8.2080367,
          5.4302589,
          2.6524811,
          0.98972561,
          0.64893002,
          0.32048611,
          0,
          0,
          2.25,
          4.5,
          6.75,
          9,
          11.25,
          13.5,
          15.75,
          18,
          19.642719,
          19.412441,
          20,
          20,
          20,
          19.212177,
          16.4344,
          13.656622,
          10.878844,
          8.1010663,
          5.3232886,
          2.5455108,
          0.33216318,
          0.0018406411,
          0,
          0,
          0,
          0,
          0,
          0,
          0,
          1.6590807,
          3.9090807,
          5.4831519,
          5.182597,
          4.4260155,
          3.5581088,
          2.6482515,
          1.7448967,
          0.83688226,
          0
         ]
        },
        {
         "mode": "lines",
         "name": "Inflow Values",
         "type": "scatter",
         "x": [
          "Día 1 01:00",
          "Día 1 02:00",
          "Día 1 03:00",
          "Día 1 04:00",
          "Día 1 05:00",
          "Día 1 06:00",
          "Día 1 07:00",
          "Día 1 08:00",
          "Día 1 09:00",
          "Día 1 10:00",
          "Día 1 11:00",
          "Día 1 12:00",
          "Día 1 13:00",
          "Día 1 14:00",
          "Día 1 15:00",
          "Día 1 16:00",
          "Día 1 17:00",
          "Día 1 18:00",
          "Día 1 19:00",
          "Día 1 20:00",
          "Día 1 21:00",
          "Día 1 22:00",
          "Día 1 23:00",
          "Día 1 00:00",
          "Día 2 01:00",
          "Día 2 02:00",
          "Día 2 03:00",
          "Día 2 04:00",
          "Día 2 05:00",
          "Día 2 06:00",
          "Día 2 07:00",
          "Día 2 08:00",
          "Día 2 09:00",
          "Día 2 10:00",
          "Día 2 11:00",
          "Día 2 12:00",
          "Día 2 13:00",
          "Día 2 14:00",
          "Día 2 15:00",
          "Día 2 16:00",
          "Día 2 17:00",
          "Día 2 18:00",
          "Día 2 19:00",
          "Día 2 20:00",
          "Día 2 21:00",
          "Día 2 22:00",
          "Día 2 23:00",
          "Día 2 00:00",
          "Día 3 01:00",
          "Día 3 02:00",
          "Día 3 03:00",
          "Día 3 04:00",
          "Día 3 05:00",
          "Día 3 06:00",
          "Día 3 07:00",
          "Día 3 08:00",
          "Día 3 09:00",
          "Día 3 10:00",
          "Día 3 11:00",
          "Día 3 12:00",
          "Día 3 13:00",
          "Día 3 14:00",
          "Día 3 15:00",
          "Día 3 16:00",
          "Día 3 17:00",
          "Día 3 18:00",
          "Día 3 19:00",
          "Día 3 20:00",
          "Día 3 21:00",
          "Día 3 22:00",
          "Día 3 23:00",
          "Día 3 00:00",
          "Día 4 01:00",
          "Día 4 02:00",
          "Día 4 03:00",
          "Día 4 04:00",
          "Día 4 05:00",
          "Día 4 06:00",
          "Día 4 07:00",
          "Día 4 08:00",
          "Día 4 09:00",
          "Día 4 10:00",
          "Día 4 11:00",
          "Día 4 12:00",
          "Día 4 13:00",
          "Día 4 14:00",
          "Día 4 15:00",
          "Día 4 16:00",
          "Día 4 17:00",
          "Día 4 18:00",
          "Día 4 19:00",
          "Día 4 20:00",
          "Día 4 21:00",
          "Día 4 22:00",
          "Día 4 23:00",
          "Día 4 00:00",
          "Día 5 01:00",
          "Día 5 02:00",
          "Día 5 03:00",
          "Día 5 04:00",
          "Día 5 05:00",
          "Día 5 06:00",
          "Día 5 07:00",
          "Día 5 08:00",
          "Día 5 09:00",
          "Día 5 10:00",
          "Día 5 11:00",
          "Día 5 12:00",
          "Día 5 13:00",
          "Día 5 14:00",
          "Día 5 15:00",
          "Día 5 16:00",
          "Día 5 17:00",
          "Día 5 18:00",
          "Día 5 19:00",
          "Día 5 20:00",
          "Día 5 21:00",
          "Día 5 22:00",
          "Día 5 23:00",
          "Día 5 00:00",
          "Día 6 01:00",
          "Día 6 02:00",
          "Día 6 03:00",
          "Día 6 04:00",
          "Día 6 05:00",
          "Día 6 06:00",
          "Día 6 07:00",
          "Día 6 08:00",
          "Día 6 09:00",
          "Día 6 10:00",
          "Día 6 11:00",
          "Día 6 12:00",
          "Día 6 13:00",
          "Día 6 14:00",
          "Día 6 15:00",
          "Día 6 16:00",
          "Día 6 17:00",
          "Día 6 18:00",
          "Día 6 19:00",
          "Día 6 20:00",
          "Día 6 21:00",
          "Día 6 22:00",
          "Día 6 23:00",
          "Día 6 00:00",
          "Día 7 01:00",
          "Día 7 02:00",
          "Día 7 03:00",
          "Día 7 04:00",
          "Día 7 05:00",
          "Día 7 06:00",
          "Día 7 07:00",
          "Día 7 08:00",
          "Día 7 09:00",
          "Día 7 10:00",
          "Día 7 11:00",
          "Día 7 12:00",
          "Día 7 13:00",
          "Día 7 14:00",
          "Día 7 15:00",
          "Día 7 16:00",
          "Día 7 17:00",
          "Día 7 18:00",
          "Día 7 19:00",
          "Día 7 20:00",
          "Día 7 21:00",
          "Día 7 22:00",
          "Día 7 23:00"
         ],
         "y": [
          0,
          0,
          0,
          0,
          0,
          0,
          0,
          0,
          2.2222222,
          2.5,
          2.5,
          2.5,
          2.5,
          2.5,
          2.5,
          2.5,
          2.5,
          0,
          0,
          0,
          0,
          0,
          0,
          0,
          0,
          0,
          0,
          0,
          0,
          0,
          0,
          0,
          2.2222222,
          2.5,
          2.5,
          2.5,
          2.5,
          2.5,
          2.5,
          2.5,
          2.5,
          0,
          0,
          0,
          0,
          0,
          0,
          0,
          0,
          0,
          0,
          0,
          0,
          0,
          0,
          0,
          2.5,
          2.5,
          2.5,
          2.5,
          2.5,
          2.5,
          2.5,
          2.5,
          1.7477561,
          0,
          0,
          0,
          0,
          0,
          0,
          0,
          0,
          0,
          0,
          0,
          0,
          0,
          0,
          0,
          2.5,
          2.5,
          2.5,
          2.5,
          2.5,
          2.5,
          2.5,
          2.5,
          1.7824575,
          0,
          0,
          0,
          0,
          0,
          0,
          0,
          0,
          0,
          0,
          0,
          0,
          0,
          0,
          0,
          2.5,
          2.5,
          2.5,
          2.5,
          2.5,
          2.5,
          2.5,
          2.5,
          1.8174166,
          0,
          0,
          1.5586338,
          0,
          0,
          0,
          0,
          0,
          0,
          0,
          0,
          0,
          0,
          0,
          0,
          2.5,
          2.5,
          2.5,
          2.5,
          2.5,
          2.5,
          2.5,
          2.5,
          1.8252435,
          0,
          0.65284376,
          0,
          0,
          0,
          0,
          0,
          0,
          0,
          0,
          0,
          0,
          0,
          0,
          0,
          0,
          0,
          0,
          0,
          0,
          1.843423,
          2.5,
          1.748968,
          0,
          0,
          0,
          0,
          0,
          0,
          0
         ]
        },
        {
         "mode": "lines",
         "name": "Outflow Values",
         "type": "scatter",
         "x": [
          "Día 1 01:00",
          "Día 1 02:00",
          "Día 1 03:00",
          "Día 1 04:00",
          "Día 1 05:00",
          "Día 1 06:00",
          "Día 1 07:00",
          "Día 1 08:00",
          "Día 1 09:00",
          "Día 1 10:00",
          "Día 1 11:00",
          "Día 1 12:00",
          "Día 1 13:00",
          "Día 1 14:00",
          "Día 1 15:00",
          "Día 1 16:00",
          "Día 1 17:00",
          "Día 1 18:00",
          "Día 1 19:00",
          "Día 1 20:00",
          "Día 1 21:00",
          "Día 1 22:00",
          "Día 1 23:00",
          "Día 1 00:00",
          "Día 2 01:00",
          "Día 2 02:00",
          "Día 2 03:00",
          "Día 2 04:00",
          "Día 2 05:00",
          "Día 2 06:00",
          "Día 2 07:00",
          "Día 2 08:00",
          "Día 2 09:00",
          "Día 2 10:00",
          "Día 2 11:00",
          "Día 2 12:00",
          "Día 2 13:00",
          "Día 2 14:00",
          "Día 2 15:00",
          "Día 2 16:00",
          "Día 2 17:00",
          "Día 2 18:00",
          "Día 2 19:00",
          "Día 2 20:00",
          "Día 2 21:00",
          "Día 2 22:00",
          "Día 2 23:00",
          "Día 2 00:00",
          "Día 3 01:00",
          "Día 3 02:00",
          "Día 3 03:00",
          "Día 3 04:00",
          "Día 3 05:00",
          "Día 3 06:00",
          "Día 3 07:00",
          "Día 3 08:00",
          "Día 3 09:00",
          "Día 3 10:00",
          "Día 3 11:00",
          "Día 3 12:00",
          "Día 3 13:00",
          "Día 3 14:00",
          "Día 3 15:00",
          "Día 3 16:00",
          "Día 3 17:00",
          "Día 3 18:00",
          "Día 3 19:00",
          "Día 3 20:00",
          "Día 3 21:00",
          "Día 3 22:00",
          "Día 3 23:00",
          "Día 3 00:00",
          "Día 4 01:00",
          "Día 4 02:00",
          "Día 4 03:00",
          "Día 4 04:00",
          "Día 4 05:00",
          "Día 4 06:00",
          "Día 4 07:00",
          "Día 4 08:00",
          "Día 4 09:00",
          "Día 4 10:00",
          "Día 4 11:00",
          "Día 4 12:00",
          "Día 4 13:00",
          "Día 4 14:00",
          "Día 4 15:00",
          "Día 4 16:00",
          "Día 4 17:00",
          "Día 4 18:00",
          "Día 4 19:00",
          "Día 4 20:00",
          "Día 4 21:00",
          "Día 4 22:00",
          "Día 4 23:00",
          "Día 4 00:00",
          "Día 5 01:00",
          "Día 5 02:00",
          "Día 5 03:00",
          "Día 5 04:00",
          "Día 5 05:00",
          "Día 5 06:00",
          "Día 5 07:00",
          "Día 5 08:00",
          "Día 5 09:00",
          "Día 5 10:00",
          "Día 5 11:00",
          "Día 5 12:00",
          "Día 5 13:00",
          "Día 5 14:00",
          "Día 5 15:00",
          "Día 5 16:00",
          "Día 5 17:00",
          "Día 5 18:00",
          "Día 5 19:00",
          "Día 5 20:00",
          "Día 5 21:00",
          "Día 5 22:00",
          "Día 5 23:00",
          "Día 5 00:00",
          "Día 6 01:00",
          "Día 6 02:00",
          "Día 6 03:00",
          "Día 6 04:00",
          "Día 6 05:00",
          "Día 6 06:00",
          "Día 6 07:00",
          "Día 6 08:00",
          "Día 6 09:00",
          "Día 6 10:00",
          "Día 6 11:00",
          "Día 6 12:00",
          "Día 6 13:00",
          "Día 6 14:00",
          "Día 6 15:00",
          "Día 6 16:00",
          "Día 6 17:00",
          "Día 6 18:00",
          "Día 6 19:00",
          "Día 6 20:00",
          "Día 6 21:00",
          "Día 6 22:00",
          "Día 6 23:00",
          "Día 6 00:00",
          "Día 7 01:00",
          "Día 7 02:00",
          "Día 7 03:00",
          "Día 7 04:00",
          "Día 7 05:00",
          "Día 7 06:00",
          "Día 7 07:00",
          "Día 7 08:00",
          "Día 7 09:00",
          "Día 7 10:00",
          "Día 7 11:00",
          "Día 7 12:00",
          "Día 7 13:00",
          "Día 7 14:00",
          "Día 7 15:00",
          "Día 7 16:00",
          "Día 7 17:00",
          "Día 7 18:00",
          "Día 7 19:00",
          "Día 7 20:00",
          "Día 7 21:00",
          "Día 7 22:00",
          "Día 7 23:00"
         ],
         "y": [
          0,
          0,
          0,
          0,
          0,
          0,
          0,
          0,
          0,
          0,
          0,
          0,
          0,
          0,
          0,
          0,
          0,
          -0.28417443,
          -0.7804277,
          -0.84662631,
          -0.86775327,
          -0.83824107,
          -2.5,
          -0.78003746,
          -2.5,
          -0.4619645,
          -2.5,
          -2.5,
          -2.5,
          -0.30661847,
          -0.33415679,
          0,
          0,
          0,
          0,
          0,
          0,
          0,
          0,
          0,
          0,
          -0.27992639,
          -0.77219773,
          -0.82628071,
          -2.5,
          -2.5,
          -2.5,
          -1.8318458,
          -0.55624586,
          -2.5,
          -2.5,
          -0.32619142,
          -0.29636346,
          -0.30075152,
          -0.31019708,
          0,
          0,
          0,
          0,
          0,
          0,
          0,
          0,
          0,
          0,
          -0.31286106,
          -0.78424804,
          -0.82830575,
          -2.5,
          -2.5,
          -2.5,
          -2.5,
          -2.5,
          -0.44727635,
          -0.35893924,
          -1.4752258,
          -0.29355793,
          -0.29928615,
          -0.31598214,
          0,
          0,
          0,
          0,
          0,
          0,
          0,
          0,
          0,
          0,
          -0.27619773,
          -0.76163502,
          -0.80145383,
          -2.5,
          -2.5,
          -2.5,
          -2.5,
          -2.5,
          -0.44043445,
          -1.6306033,
          -0.3232831,
          -0.29939852,
          -0.29303114,
          -0.31775348,
          0,
          0,
          0,
          0,
          0,
          0,
          0,
          0,
          0,
          0,
          -0.22879268,
          -0.70580814,
          0,
          -2.5,
          -2.5,
          -2.5,
          -0.61276699,
          -2.5,
          -2.5,
          -2.5,
          -1.49648,
          -0.30671603,
          -0.29559952,
          -0.2884375,
          0,
          0,
          0,
          0,
          0,
          0,
          0,
          0,
          0,
          0,
          -0.20725065,
          0,
          0,
          0,
          -0.70904029,
          -2.5,
          -2.5,
          -2.5,
          -2.5,
          -2.5,
          -2.5,
          -1.9920128,
          -0.29729029,
          -0.001656577,
          0,
          0,
          0,
          0,
          0,
          0,
          0,
          0,
          0,
          -0.27049935,
          -0.68092334,
          -0.78111607,
          -0.81887152,
          -0.81301938,
          -0.81721298,
          -0.75319403
         ]
        }
       ],
       "layout": {
        "legend": {
         "title": {
          "text": "Leyenda"
         }
        },
        "template": {
         "data": {
          "bar": [
           {
            "error_x": {
             "color": "#2a3f5f"
            },
            "error_y": {
             "color": "#2a3f5f"
            },
            "marker": {
             "line": {
              "color": "white",
              "width": 0.5
             },
             "pattern": {
              "fillmode": "overlay",
              "size": 10,
              "solidity": 0.2
             }
            },
            "type": "bar"
           }
          ],
          "barpolar": [
           {
            "marker": {
             "line": {
              "color": "white",
              "width": 0.5
             },
             "pattern": {
              "fillmode": "overlay",
              "size": 10,
              "solidity": 0.2
             }
            },
            "type": "barpolar"
           }
          ],
          "carpet": [
           {
            "aaxis": {
             "endlinecolor": "#2a3f5f",
             "gridcolor": "#C8D4E3",
             "linecolor": "#C8D4E3",
             "minorgridcolor": "#C8D4E3",
             "startlinecolor": "#2a3f5f"
            },
            "baxis": {
             "endlinecolor": "#2a3f5f",
             "gridcolor": "#C8D4E3",
             "linecolor": "#C8D4E3",
             "minorgridcolor": "#C8D4E3",
             "startlinecolor": "#2a3f5f"
            },
            "type": "carpet"
           }
          ],
          "choropleth": [
           {
            "colorbar": {
             "outlinewidth": 0,
             "ticks": ""
            },
            "type": "choropleth"
           }
          ],
          "contour": [
           {
            "colorbar": {
             "outlinewidth": 0,
             "ticks": ""
            },
            "colorscale": [
             [
              0,
              "#0d0887"
             ],
             [
              0.1111111111111111,
              "#46039f"
             ],
             [
              0.2222222222222222,
              "#7201a8"
             ],
             [
              0.3333333333333333,
              "#9c179e"
             ],
             [
              0.4444444444444444,
              "#bd3786"
             ],
             [
              0.5555555555555556,
              "#d8576b"
             ],
             [
              0.6666666666666666,
              "#ed7953"
             ],
             [
              0.7777777777777778,
              "#fb9f3a"
             ],
             [
              0.8888888888888888,
              "#fdca26"
             ],
             [
              1,
              "#f0f921"
             ]
            ],
            "type": "contour"
           }
          ],
          "contourcarpet": [
           {
            "colorbar": {
             "outlinewidth": 0,
             "ticks": ""
            },
            "type": "contourcarpet"
           }
          ],
          "heatmap": [
           {
            "colorbar": {
             "outlinewidth": 0,
             "ticks": ""
            },
            "colorscale": [
             [
              0,
              "#0d0887"
             ],
             [
              0.1111111111111111,
              "#46039f"
             ],
             [
              0.2222222222222222,
              "#7201a8"
             ],
             [
              0.3333333333333333,
              "#9c179e"
             ],
             [
              0.4444444444444444,
              "#bd3786"
             ],
             [
              0.5555555555555556,
              "#d8576b"
             ],
             [
              0.6666666666666666,
              "#ed7953"
             ],
             [
              0.7777777777777778,
              "#fb9f3a"
             ],
             [
              0.8888888888888888,
              "#fdca26"
             ],
             [
              1,
              "#f0f921"
             ]
            ],
            "type": "heatmap"
           }
          ],
          "heatmapgl": [
           {
            "colorbar": {
             "outlinewidth": 0,
             "ticks": ""
            },
            "colorscale": [
             [
              0,
              "#0d0887"
             ],
             [
              0.1111111111111111,
              "#46039f"
             ],
             [
              0.2222222222222222,
              "#7201a8"
             ],
             [
              0.3333333333333333,
              "#9c179e"
             ],
             [
              0.4444444444444444,
              "#bd3786"
             ],
             [
              0.5555555555555556,
              "#d8576b"
             ],
             [
              0.6666666666666666,
              "#ed7953"
             ],
             [
              0.7777777777777778,
              "#fb9f3a"
             ],
             [
              0.8888888888888888,
              "#fdca26"
             ],
             [
              1,
              "#f0f921"
             ]
            ],
            "type": "heatmapgl"
           }
          ],
          "histogram": [
           {
            "marker": {
             "pattern": {
              "fillmode": "overlay",
              "size": 10,
              "solidity": 0.2
             }
            },
            "type": "histogram"
           }
          ],
          "histogram2d": [
           {
            "colorbar": {
             "outlinewidth": 0,
             "ticks": ""
            },
            "colorscale": [
             [
              0,
              "#0d0887"
             ],
             [
              0.1111111111111111,
              "#46039f"
             ],
             [
              0.2222222222222222,
              "#7201a8"
             ],
             [
              0.3333333333333333,
              "#9c179e"
             ],
             [
              0.4444444444444444,
              "#bd3786"
             ],
             [
              0.5555555555555556,
              "#d8576b"
             ],
             [
              0.6666666666666666,
              "#ed7953"
             ],
             [
              0.7777777777777778,
              "#fb9f3a"
             ],
             [
              0.8888888888888888,
              "#fdca26"
             ],
             [
              1,
              "#f0f921"
             ]
            ],
            "type": "histogram2d"
           }
          ],
          "histogram2dcontour": [
           {
            "colorbar": {
             "outlinewidth": 0,
             "ticks": ""
            },
            "colorscale": [
             [
              0,
              "#0d0887"
             ],
             [
              0.1111111111111111,
              "#46039f"
             ],
             [
              0.2222222222222222,
              "#7201a8"
             ],
             [
              0.3333333333333333,
              "#9c179e"
             ],
             [
              0.4444444444444444,
              "#bd3786"
             ],
             [
              0.5555555555555556,
              "#d8576b"
             ],
             [
              0.6666666666666666,
              "#ed7953"
             ],
             [
              0.7777777777777778,
              "#fb9f3a"
             ],
             [
              0.8888888888888888,
              "#fdca26"
             ],
             [
              1,
              "#f0f921"
             ]
            ],
            "type": "histogram2dcontour"
           }
          ],
          "mesh3d": [
           {
            "colorbar": {
             "outlinewidth": 0,
             "ticks": ""
            },
            "type": "mesh3d"
           }
          ],
          "parcoords": [
           {
            "line": {
             "colorbar": {
              "outlinewidth": 0,
              "ticks": ""
             }
            },
            "type": "parcoords"
           }
          ],
          "pie": [
           {
            "automargin": true,
            "type": "pie"
           }
          ],
          "scatter": [
           {
            "fillpattern": {
             "fillmode": "overlay",
             "size": 10,
             "solidity": 0.2
            },
            "type": "scatter"
           }
          ],
          "scatter3d": [
           {
            "line": {
             "colorbar": {
              "outlinewidth": 0,
              "ticks": ""
             }
            },
            "marker": {
             "colorbar": {
              "outlinewidth": 0,
              "ticks": ""
             }
            },
            "type": "scatter3d"
           }
          ],
          "scattercarpet": [
           {
            "marker": {
             "colorbar": {
              "outlinewidth": 0,
              "ticks": ""
             }
            },
            "type": "scattercarpet"
           }
          ],
          "scattergeo": [
           {
            "marker": {
             "colorbar": {
              "outlinewidth": 0,
              "ticks": ""
             }
            },
            "type": "scattergeo"
           }
          ],
          "scattergl": [
           {
            "marker": {
             "colorbar": {
              "outlinewidth": 0,
              "ticks": ""
             }
            },
            "type": "scattergl"
           }
          ],
          "scattermapbox": [
           {
            "marker": {
             "colorbar": {
              "outlinewidth": 0,
              "ticks": ""
             }
            },
            "type": "scattermapbox"
           }
          ],
          "scatterpolar": [
           {
            "marker": {
             "colorbar": {
              "outlinewidth": 0,
              "ticks": ""
             }
            },
            "type": "scatterpolar"
           }
          ],
          "scatterpolargl": [
           {
            "marker": {
             "colorbar": {
              "outlinewidth": 0,
              "ticks": ""
             }
            },
            "type": "scatterpolargl"
           }
          ],
          "scatterternary": [
           {
            "marker": {
             "colorbar": {
              "outlinewidth": 0,
              "ticks": ""
             }
            },
            "type": "scatterternary"
           }
          ],
          "surface": [
           {
            "colorbar": {
             "outlinewidth": 0,
             "ticks": ""
            },
            "colorscale": [
             [
              0,
              "#0d0887"
             ],
             [
              0.1111111111111111,
              "#46039f"
             ],
             [
              0.2222222222222222,
              "#7201a8"
             ],
             [
              0.3333333333333333,
              "#9c179e"
             ],
             [
              0.4444444444444444,
              "#bd3786"
             ],
             [
              0.5555555555555556,
              "#d8576b"
             ],
             [
              0.6666666666666666,
              "#ed7953"
             ],
             [
              0.7777777777777778,
              "#fb9f3a"
             ],
             [
              0.8888888888888888,
              "#fdca26"
             ],
             [
              1,
              "#f0f921"
             ]
            ],
            "type": "surface"
           }
          ],
          "table": [
           {
            "cells": {
             "fill": {
              "color": "#EBF0F8"
             },
             "line": {
              "color": "white"
             }
            },
            "header": {
             "fill": {
              "color": "#C8D4E3"
             },
             "line": {
              "color": "white"
             }
            },
            "type": "table"
           }
          ]
         },
         "layout": {
          "annotationdefaults": {
           "arrowcolor": "#2a3f5f",
           "arrowhead": 0,
           "arrowwidth": 1
          },
          "autotypenumbers": "strict",
          "coloraxis": {
           "colorbar": {
            "outlinewidth": 0,
            "ticks": ""
           }
          },
          "colorscale": {
           "diverging": [
            [
             0,
             "#8e0152"
            ],
            [
             0.1,
             "#c51b7d"
            ],
            [
             0.2,
             "#de77ae"
            ],
            [
             0.3,
             "#f1b6da"
            ],
            [
             0.4,
             "#fde0ef"
            ],
            [
             0.5,
             "#f7f7f7"
            ],
            [
             0.6,
             "#e6f5d0"
            ],
            [
             0.7,
             "#b8e186"
            ],
            [
             0.8,
             "#7fbc41"
            ],
            [
             0.9,
             "#4d9221"
            ],
            [
             1,
             "#276419"
            ]
           ],
           "sequential": [
            [
             0,
             "#0d0887"
            ],
            [
             0.1111111111111111,
             "#46039f"
            ],
            [
             0.2222222222222222,
             "#7201a8"
            ],
            [
             0.3333333333333333,
             "#9c179e"
            ],
            [
             0.4444444444444444,
             "#bd3786"
            ],
            [
             0.5555555555555556,
             "#d8576b"
            ],
            [
             0.6666666666666666,
             "#ed7953"
            ],
            [
             0.7777777777777778,
             "#fb9f3a"
            ],
            [
             0.8888888888888888,
             "#fdca26"
            ],
            [
             1,
             "#f0f921"
            ]
           ],
           "sequentialminus": [
            [
             0,
             "#0d0887"
            ],
            [
             0.1111111111111111,
             "#46039f"
            ],
            [
             0.2222222222222222,
             "#7201a8"
            ],
            [
             0.3333333333333333,
             "#9c179e"
            ],
            [
             0.4444444444444444,
             "#bd3786"
            ],
            [
             0.5555555555555556,
             "#d8576b"
            ],
            [
             0.6666666666666666,
             "#ed7953"
            ],
            [
             0.7777777777777778,
             "#fb9f3a"
            ],
            [
             0.8888888888888888,
             "#fdca26"
            ],
            [
             1,
             "#f0f921"
            ]
           ]
          },
          "colorway": [
           "#636efa",
           "#EF553B",
           "#00cc96",
           "#ab63fa",
           "#FFA15A",
           "#19d3f3",
           "#FF6692",
           "#B6E880",
           "#FF97FF",
           "#FECB52"
          ],
          "font": {
           "color": "#2a3f5f"
          },
          "geo": {
           "bgcolor": "white",
           "lakecolor": "white",
           "landcolor": "white",
           "showlakes": true,
           "showland": true,
           "subunitcolor": "#C8D4E3"
          },
          "hoverlabel": {
           "align": "left"
          },
          "hovermode": "closest",
          "mapbox": {
           "style": "light"
          },
          "paper_bgcolor": "white",
          "plot_bgcolor": "white",
          "polar": {
           "angularaxis": {
            "gridcolor": "#EBF0F8",
            "linecolor": "#EBF0F8",
            "ticks": ""
           },
           "bgcolor": "white",
           "radialaxis": {
            "gridcolor": "#EBF0F8",
            "linecolor": "#EBF0F8",
            "ticks": ""
           }
          },
          "scene": {
           "xaxis": {
            "backgroundcolor": "white",
            "gridcolor": "#DFE8F3",
            "gridwidth": 2,
            "linecolor": "#EBF0F8",
            "showbackground": true,
            "ticks": "",
            "zerolinecolor": "#EBF0F8"
           },
           "yaxis": {
            "backgroundcolor": "white",
            "gridcolor": "#DFE8F3",
            "gridwidth": 2,
            "linecolor": "#EBF0F8",
            "showbackground": true,
            "ticks": "",
            "zerolinecolor": "#EBF0F8"
           },
           "zaxis": {
            "backgroundcolor": "white",
            "gridcolor": "#DFE8F3",
            "gridwidth": 2,
            "linecolor": "#EBF0F8",
            "showbackground": true,
            "ticks": "",
            "zerolinecolor": "#EBF0F8"
           }
          },
          "shapedefaults": {
           "line": {
            "color": "#2a3f5f"
           }
          },
          "ternary": {
           "aaxis": {
            "gridcolor": "#DFE8F3",
            "linecolor": "#A2B1C6",
            "ticks": ""
           },
           "baxis": {
            "gridcolor": "#DFE8F3",
            "linecolor": "#A2B1C6",
            "ticks": ""
           },
           "bgcolor": "white",
           "caxis": {
            "gridcolor": "#DFE8F3",
            "linecolor": "#A2B1C6",
            "ticks": ""
           }
          },
          "title": {
           "x": 0.05
          },
          "xaxis": {
           "automargin": true,
           "gridcolor": "#EBF0F8",
           "linecolor": "#EBF0F8",
           "ticks": "",
           "title": {
            "standoff": 15
           },
           "zerolinecolor": "#EBF0F8",
           "zerolinewidth": 2
          },
          "yaxis": {
           "automargin": true,
           "gridcolor": "#EBF0F8",
           "linecolor": "#EBF0F8",
           "ticks": "",
           "title": {
            "standoff": 15
           },
           "zerolinecolor": "#EBF0F8",
           "zerolinewidth": 2
          }
         }
        },
        "title": {
         "text": "BESSS"
        },
        "xaxis": {
         "tickangle": 90,
         "title": {
          "text": "Tiempo"
         }
        },
        "yaxis": {
         "title": {
          "text": "kW"
         }
        }
       }
      }
     },
     "metadata": {},
     "output_type": "display_data"
    },
    {
     "data": {
      "application/vnd.plotly.v1+json": {
       "config": {
        "plotlyServerURL": "https://plot.ly"
       },
       "data": [
        {
         "mode": "lines",
         "name": "Consumo: d1",
         "type": "scatter",
         "x": [
          "Día 1 01:00",
          "Día 1 02:00",
          "Día 1 03:00",
          "Día 1 04:00",
          "Día 1 05:00",
          "Día 1 06:00",
          "Día 1 07:00",
          "Día 1 08:00",
          "Día 1 09:00",
          "Día 1 10:00",
          "Día 1 11:00",
          "Día 1 12:00",
          "Día 1 13:00",
          "Día 1 14:00",
          "Día 1 15:00",
          "Día 1 16:00",
          "Día 1 17:00",
          "Día 1 18:00",
          "Día 1 19:00",
          "Día 1 20:00",
          "Día 1 21:00",
          "Día 1 22:00",
          "Día 1 23:00",
          "Día 1 00:00",
          "Día 2 01:00",
          "Día 2 02:00",
          "Día 2 03:00",
          "Día 2 04:00",
          "Día 2 05:00",
          "Día 2 06:00",
          "Día 2 07:00",
          "Día 2 08:00",
          "Día 2 09:00",
          "Día 2 10:00",
          "Día 2 11:00",
          "Día 2 12:00",
          "Día 2 13:00",
          "Día 2 14:00",
          "Día 2 15:00",
          "Día 2 16:00",
          "Día 2 17:00",
          "Día 2 18:00",
          "Día 2 19:00",
          "Día 2 20:00",
          "Día 2 21:00",
          "Día 2 22:00",
          "Día 2 23:00",
          "Día 2 00:00",
          "Día 3 01:00",
          "Día 3 02:00",
          "Día 3 03:00",
          "Día 3 04:00",
          "Día 3 05:00",
          "Día 3 06:00",
          "Día 3 07:00",
          "Día 3 08:00",
          "Día 3 09:00",
          "Día 3 10:00",
          "Día 3 11:00",
          "Día 3 12:00",
          "Día 3 13:00",
          "Día 3 14:00",
          "Día 3 15:00",
          "Día 3 16:00",
          "Día 3 17:00",
          "Día 3 18:00",
          "Día 3 19:00",
          "Día 3 20:00",
          "Día 3 21:00",
          "Día 3 22:00",
          "Día 3 23:00",
          "Día 3 00:00",
          "Día 4 01:00",
          "Día 4 02:00",
          "Día 4 03:00",
          "Día 4 04:00",
          "Día 4 05:00",
          "Día 4 06:00",
          "Día 4 07:00",
          "Día 4 08:00",
          "Día 4 09:00",
          "Día 4 10:00",
          "Día 4 11:00",
          "Día 4 12:00",
          "Día 4 13:00",
          "Día 4 14:00",
          "Día 4 15:00",
          "Día 4 16:00",
          "Día 4 17:00",
          "Día 4 18:00",
          "Día 4 19:00",
          "Día 4 20:00",
          "Día 4 21:00",
          "Día 4 22:00",
          "Día 4 23:00",
          "Día 4 00:00",
          "Día 5 01:00",
          "Día 5 02:00",
          "Día 5 03:00",
          "Día 5 04:00",
          "Día 5 05:00",
          "Día 5 06:00",
          "Día 5 07:00",
          "Día 5 08:00",
          "Día 5 09:00",
          "Día 5 10:00",
          "Día 5 11:00",
          "Día 5 12:00",
          "Día 5 13:00",
          "Día 5 14:00",
          "Día 5 15:00",
          "Día 5 16:00",
          "Día 5 17:00",
          "Día 5 18:00",
          "Día 5 19:00",
          "Día 5 20:00",
          "Día 5 21:00",
          "Día 5 22:00",
          "Día 5 23:00",
          "Día 5 00:00",
          "Día 6 01:00",
          "Día 6 02:00",
          "Día 6 03:00",
          "Día 6 04:00",
          "Día 6 05:00",
          "Día 6 06:00",
          "Día 6 07:00",
          "Día 6 08:00",
          "Día 6 09:00",
          "Día 6 10:00",
          "Día 6 11:00",
          "Día 6 12:00",
          "Día 6 13:00",
          "Día 6 14:00",
          "Día 6 15:00",
          "Día 6 16:00",
          "Día 6 17:00",
          "Día 6 18:00",
          "Día 6 19:00",
          "Día 6 20:00",
          "Día 6 21:00",
          "Día 6 22:00",
          "Día 6 23:00",
          "Día 6 00:00",
          "Día 7 01:00",
          "Día 7 02:00",
          "Día 7 03:00",
          "Día 7 04:00",
          "Día 7 05:00",
          "Día 7 06:00",
          "Día 7 07:00",
          "Día 7 08:00",
          "Día 7 09:00",
          "Día 7 10:00",
          "Día 7 11:00",
          "Día 7 12:00",
          "Día 7 13:00",
          "Día 7 14:00",
          "Día 7 15:00",
          "Día 7 16:00",
          "Día 7 17:00",
          "Día 7 18:00",
          "Día 7 19:00",
          "Día 7 20:00",
          "Día 7 21:00",
          "Día 7 22:00",
          "Día 7 23:00"
         ],
         "y": [
          0.56085475,
          0.46655422,
          0.37694425,
          0.32357796,
          0.3004449,
          0.29282165,
          0.3194902,
          0.38269686,
          0.44627504,
          0.53842509,
          0.61109734,
          0.65273563,
          0.70168902,
          0.70931446,
          0.6988297,
          0.66426328,
          0.66251829,
          0.68217443,
          0.7804277,
          0.84662631,
          0.86775327,
          0.83824107,
          0.8096814,
          0.69496429,
          0.57753898,
          0.4619645,
          0.3687905,
          0.3164044,
          0.29730902,
          0.30661847,
          0.33415679,
          0.38508471,
          0.45085388,
          0.53347561,
          0.60256816,
          0.67071733,
          0.69516267,
          0.70620993,
          0.66889242,
          0.64917966,
          0.63295013,
          0.67792639,
          0.77219773,
          0.82628071,
          0.85400087,
          0.82849564,
          0.77465004,
          0.67671429,
          0.55624586,
          0.44030335,
          0.36153288,
          0.32619142,
          0.29636346,
          0.30075152,
          0.31019708,
          0.36835518,
          0.43245274,
          0.49121429,
          0.55084582,
          0.59514678,
          0.61902548,
          0.66530836,
          0.67400283,
          0.68905379,
          0.6802439,
          0.71086106,
          0.78424804,
          0.82830575,
          0.81791202,
          0.79869861,
          0.72736084,
          0.6432622,
          0.53646538,
          0.44727635,
          0.35893924,
          0.31279486,
          0.29355793,
          0.29928615,
          0.31598214,
          0.36295841,
          0.40433362,
          0.47321842,
          0.53925871,
          0.59937021,
          0.62445383,
          0.65736106,
          0.65345623,
          0.6500331,
          0.64554247,
          0.67419774,
          0.76163502,
          0.80145383,
          0.80503158,
          0.78137348,
          0.72177983,
          0.63992487,
          0.53671886,
          0.44043445,
          0.37021037,
          0.3232831,
          0.29939852,
          0.29303114,
          0.31775348,
          0.35737064,
          0.40791311,
          0.45827766,
          0.51679508,
          0.57693815,
          0.6012132,
          0.62183319,
          0.63036542,
          0.61841028,
          0.61058341,
          0.62679268,
          0.70580814,
          0.74884909,
          0.74170187,
          0.72080226,
          0.67470405,
          0.61276699,
          0.53519861,
          0.46002112,
          0.37676873,
          0.33417182,
          0.30671603,
          0.29559952,
          0.2884375,
          0.30701808,
          0.31858798,
          0.3757574,
          0.46068423,
          0.5279179,
          0.57475827,
          0.59664917,
          0.61398497,
          0.6125699,
          0.60275653,
          0.60525065,
          0.68010061,
          0.70964983,
          0.70298781,
          0.70904029,
          0.68417988,
          0.60354159,
          0.52572213,
          0.45317073,
          0.37171363,
          0.32777744,
          0.30080292,
          0.29729029,
          0.28165658,
          0.28530727,
          0.2841642,
          0.34515767,
          0.42673998,
          0.50567835,
          0.57935126,
          0.65455466,
          0.69006402,
          0.67903201,
          0.66849935,
          0.68092334,
          0.78111607,
          0.81887152,
          0.81301938,
          0.81721298,
          0.75319403
         ]
        },
        {
         "mode": "lines",
         "name": "Consumo: lavadora",
         "type": "scatter",
         "x": [
          "Día 1 01:00",
          "Día 1 02:00",
          "Día 1 03:00",
          "Día 1 04:00",
          "Día 1 05:00",
          "Día 1 06:00",
          "Día 1 07:00",
          "Día 1 08:00",
          "Día 1 09:00",
          "Día 1 10:00",
          "Día 1 11:00",
          "Día 1 12:00",
          "Día 1 13:00",
          "Día 1 14:00",
          "Día 1 15:00",
          "Día 1 16:00",
          "Día 1 17:00",
          "Día 1 18:00",
          "Día 1 19:00",
          "Día 1 20:00",
          "Día 1 21:00",
          "Día 1 22:00",
          "Día 1 23:00",
          "Día 1 00:00",
          "Día 2 01:00",
          "Día 2 02:00",
          "Día 2 03:00",
          "Día 2 04:00",
          "Día 2 05:00",
          "Día 2 06:00",
          "Día 2 07:00",
          "Día 2 08:00",
          "Día 2 09:00",
          "Día 2 10:00",
          "Día 2 11:00",
          "Día 2 12:00",
          "Día 2 13:00",
          "Día 2 14:00",
          "Día 2 15:00",
          "Día 2 16:00",
          "Día 2 17:00",
          "Día 2 18:00",
          "Día 2 19:00",
          "Día 2 20:00",
          "Día 2 21:00",
          "Día 2 22:00",
          "Día 2 23:00",
          "Día 2 00:00",
          "Día 3 01:00",
          "Día 3 02:00",
          "Día 3 03:00",
          "Día 3 04:00",
          "Día 3 05:00",
          "Día 3 06:00",
          "Día 3 07:00",
          "Día 3 08:00",
          "Día 3 09:00",
          "Día 3 10:00",
          "Día 3 11:00",
          "Día 3 12:00",
          "Día 3 13:00",
          "Día 3 14:00",
          "Día 3 15:00",
          "Día 3 16:00",
          "Día 3 17:00",
          "Día 3 18:00",
          "Día 3 19:00",
          "Día 3 20:00",
          "Día 3 21:00",
          "Día 3 22:00",
          "Día 3 23:00",
          "Día 3 00:00",
          "Día 4 01:00",
          "Día 4 02:00",
          "Día 4 03:00",
          "Día 4 04:00",
          "Día 4 05:00",
          "Día 4 06:00",
          "Día 4 07:00",
          "Día 4 08:00",
          "Día 4 09:00",
          "Día 4 10:00",
          "Día 4 11:00",
          "Día 4 12:00",
          "Día 4 13:00",
          "Día 4 14:00",
          "Día 4 15:00",
          "Día 4 16:00",
          "Día 4 17:00",
          "Día 4 18:00",
          "Día 4 19:00",
          "Día 4 20:00",
          "Día 4 21:00",
          "Día 4 22:00",
          "Día 4 23:00",
          "Día 4 00:00",
          "Día 5 01:00",
          "Día 5 02:00",
          "Día 5 03:00",
          "Día 5 04:00",
          "Día 5 05:00",
          "Día 5 06:00",
          "Día 5 07:00",
          "Día 5 08:00",
          "Día 5 09:00",
          "Día 5 10:00",
          "Día 5 11:00",
          "Día 5 12:00",
          "Día 5 13:00",
          "Día 5 14:00",
          "Día 5 15:00",
          "Día 5 16:00",
          "Día 5 17:00",
          "Día 5 18:00",
          "Día 5 19:00",
          "Día 5 20:00",
          "Día 5 21:00",
          "Día 5 22:00",
          "Día 5 23:00",
          "Día 5 00:00",
          "Día 6 01:00",
          "Día 6 02:00",
          "Día 6 03:00",
          "Día 6 04:00",
          "Día 6 05:00",
          "Día 6 06:00",
          "Día 6 07:00",
          "Día 6 08:00",
          "Día 6 09:00",
          "Día 6 10:00",
          "Día 6 11:00",
          "Día 6 12:00",
          "Día 6 13:00",
          "Día 6 14:00",
          "Día 6 15:00",
          "Día 6 16:00",
          "Día 6 17:00",
          "Día 6 18:00",
          "Día 6 19:00",
          "Día 6 20:00",
          "Día 6 21:00",
          "Día 6 22:00",
          "Día 6 23:00",
          "Día 6 00:00",
          "Día 7 01:00",
          "Día 7 02:00",
          "Día 7 03:00",
          "Día 7 04:00",
          "Día 7 05:00",
          "Día 7 06:00",
          "Día 7 07:00",
          "Día 7 08:00",
          "Día 7 09:00",
          "Día 7 10:00",
          "Día 7 11:00",
          "Día 7 12:00",
          "Día 7 13:00",
          "Día 7 14:00",
          "Día 7 15:00",
          "Día 7 16:00",
          "Día 7 17:00",
          "Día 7 18:00",
          "Día 7 19:00",
          "Día 7 20:00",
          "Día 7 21:00",
          "Día 7 22:00",
          "Día 7 23:00"
         ],
         "y": [
          0,
          0,
          0,
          0,
          0,
          0,
          0,
          0,
          0,
          0,
          0,
          0,
          0,
          0.5,
          0.5,
          0.5,
          0,
          0,
          0,
          0,
          0,
          0,
          0,
          0,
          0,
          0,
          0,
          0,
          0,
          0,
          0,
          0,
          0,
          0,
          0,
          0,
          0,
          0,
          0,
          0,
          0,
          0,
          0,
          0,
          0,
          0,
          0,
          0,
          0,
          0,
          0,
          0,
          0,
          0,
          0,
          0,
          0,
          0,
          0,
          0,
          0,
          0,
          0,
          0,
          0,
          0,
          0,
          0,
          0,
          0,
          0,
          0,
          0,
          0,
          0,
          0,
          0,
          0,
          0,
          0,
          0,
          0,
          0,
          0,
          0,
          0,
          0,
          0,
          0,
          0,
          0,
          0,
          0,
          0,
          0,
          0,
          0,
          0,
          0,
          0,
          0,
          0,
          0,
          0,
          0,
          0,
          0,
          0,
          0,
          0,
          0,
          0,
          0,
          0,
          0,
          0,
          0,
          0,
          0,
          0,
          0,
          0,
          0,
          0,
          0,
          0,
          0,
          0,
          0,
          0,
          0,
          0,
          0,
          0,
          0,
          0,
          0,
          0,
          0,
          0,
          0,
          0,
          0,
          0,
          0,
          0,
          0,
          0,
          0,
          0,
          0,
          0,
          0,
          0,
          0,
          0,
          0,
          0,
          0,
          0,
          0,
          0,
          0,
          0,
          0,
          0,
          0
         ]
        },
        {
         "mode": "lines",
         "name": "Consumo: secadora",
         "type": "scatter",
         "x": [
          "Día 1 01:00",
          "Día 1 02:00",
          "Día 1 03:00",
          "Día 1 04:00",
          "Día 1 05:00",
          "Día 1 06:00",
          "Día 1 07:00",
          "Día 1 08:00",
          "Día 1 09:00",
          "Día 1 10:00",
          "Día 1 11:00",
          "Día 1 12:00",
          "Día 1 13:00",
          "Día 1 14:00",
          "Día 1 15:00",
          "Día 1 16:00",
          "Día 1 17:00",
          "Día 1 18:00",
          "Día 1 19:00",
          "Día 1 20:00",
          "Día 1 21:00",
          "Día 1 22:00",
          "Día 1 23:00",
          "Día 1 00:00",
          "Día 2 01:00",
          "Día 2 02:00",
          "Día 2 03:00",
          "Día 2 04:00",
          "Día 2 05:00",
          "Día 2 06:00",
          "Día 2 07:00",
          "Día 2 08:00",
          "Día 2 09:00",
          "Día 2 10:00",
          "Día 2 11:00",
          "Día 2 12:00",
          "Día 2 13:00",
          "Día 2 14:00",
          "Día 2 15:00",
          "Día 2 16:00",
          "Día 2 17:00",
          "Día 2 18:00",
          "Día 2 19:00",
          "Día 2 20:00",
          "Día 2 21:00",
          "Día 2 22:00",
          "Día 2 23:00",
          "Día 2 00:00",
          "Día 3 01:00",
          "Día 3 02:00",
          "Día 3 03:00",
          "Día 3 04:00",
          "Día 3 05:00",
          "Día 3 06:00",
          "Día 3 07:00",
          "Día 3 08:00",
          "Día 3 09:00",
          "Día 3 10:00",
          "Día 3 11:00",
          "Día 3 12:00",
          "Día 3 13:00",
          "Día 3 14:00",
          "Día 3 15:00",
          "Día 3 16:00",
          "Día 3 17:00",
          "Día 3 18:00",
          "Día 3 19:00",
          "Día 3 20:00",
          "Día 3 21:00",
          "Día 3 22:00",
          "Día 3 23:00",
          "Día 3 00:00",
          "Día 4 01:00",
          "Día 4 02:00",
          "Día 4 03:00",
          "Día 4 04:00",
          "Día 4 05:00",
          "Día 4 06:00",
          "Día 4 07:00",
          "Día 4 08:00",
          "Día 4 09:00",
          "Día 4 10:00",
          "Día 4 11:00",
          "Día 4 12:00",
          "Día 4 13:00",
          "Día 4 14:00",
          "Día 4 15:00",
          "Día 4 16:00",
          "Día 4 17:00",
          "Día 4 18:00",
          "Día 4 19:00",
          "Día 4 20:00",
          "Día 4 21:00",
          "Día 4 22:00",
          "Día 4 23:00",
          "Día 4 00:00",
          "Día 5 01:00",
          "Día 5 02:00",
          "Día 5 03:00",
          "Día 5 04:00",
          "Día 5 05:00",
          "Día 5 06:00",
          "Día 5 07:00",
          "Día 5 08:00",
          "Día 5 09:00",
          "Día 5 10:00",
          "Día 5 11:00",
          "Día 5 12:00",
          "Día 5 13:00",
          "Día 5 14:00",
          "Día 5 15:00",
          "Día 5 16:00",
          "Día 5 17:00",
          "Día 5 18:00",
          "Día 5 19:00",
          "Día 5 20:00",
          "Día 5 21:00",
          "Día 5 22:00",
          "Día 5 23:00",
          "Día 5 00:00",
          "Día 6 01:00",
          "Día 6 02:00",
          "Día 6 03:00",
          "Día 6 04:00",
          "Día 6 05:00",
          "Día 6 06:00",
          "Día 6 07:00",
          "Día 6 08:00",
          "Día 6 09:00",
          "Día 6 10:00",
          "Día 6 11:00",
          "Día 6 12:00",
          "Día 6 13:00",
          "Día 6 14:00",
          "Día 6 15:00",
          "Día 6 16:00",
          "Día 6 17:00",
          "Día 6 18:00",
          "Día 6 19:00",
          "Día 6 20:00",
          "Día 6 21:00",
          "Día 6 22:00",
          "Día 6 23:00",
          "Día 6 00:00",
          "Día 7 01:00",
          "Día 7 02:00",
          "Día 7 03:00",
          "Día 7 04:00",
          "Día 7 05:00",
          "Día 7 06:00",
          "Día 7 07:00",
          "Día 7 08:00",
          "Día 7 09:00",
          "Día 7 10:00",
          "Día 7 11:00",
          "Día 7 12:00",
          "Día 7 13:00",
          "Día 7 14:00",
          "Día 7 15:00",
          "Día 7 16:00",
          "Día 7 17:00",
          "Día 7 18:00",
          "Día 7 19:00",
          "Día 7 20:00",
          "Día 7 21:00",
          "Día 7 22:00",
          "Día 7 23:00"
         ],
         "y": [
          0,
          0,
          0,
          0,
          0,
          0,
          0,
          0,
          0,
          0,
          0,
          0,
          0,
          0,
          0,
          0,
          0,
          0,
          0,
          0,
          0,
          0,
          0,
          0,
          0,
          0,
          0,
          0,
          0,
          0,
          0,
          0,
          0,
          0,
          0,
          0,
          0,
          0,
          0,
          0,
          0,
          0,
          0,
          0,
          0,
          0,
          0,
          0,
          0,
          0,
          0,
          0,
          0,
          0,
          0,
          0,
          0,
          0,
          0,
          0,
          0,
          0,
          0,
          0,
          0,
          0,
          0,
          0,
          0,
          0,
          0,
          0,
          0,
          0,
          0,
          0,
          0,
          0,
          0,
          0,
          0,
          0,
          0,
          0,
          0,
          0,
          0,
          0,
          0,
          0,
          0,
          0,
          0,
          0,
          0,
          0,
          0,
          0,
          0,
          0,
          0,
          0,
          0,
          0,
          0,
          0,
          0,
          0,
          0,
          0,
          0,
          0,
          0,
          0,
          0,
          0,
          0,
          0,
          0,
          0,
          0,
          0,
          0,
          0,
          0,
          0,
          0,
          0,
          0,
          0,
          0,
          2.25,
          2.25,
          2.25,
          0,
          0,
          0,
          0,
          0,
          0,
          0,
          0,
          0,
          0,
          0,
          0,
          0,
          0,
          0,
          0,
          0,
          0,
          0,
          0,
          0,
          0,
          0,
          0,
          0,
          0,
          0,
          0,
          0,
          0,
          0,
          0,
          0
         ]
        },
        {
         "mode": "lines",
         "name": "Consumo: VEs_1",
         "type": "scatter",
         "x": [
          "Día 1 01:00",
          "Día 1 02:00",
          "Día 1 03:00",
          "Día 1 04:00",
          "Día 1 05:00",
          "Día 1 06:00",
          "Día 1 07:00",
          "Día 1 08:00",
          "Día 1 09:00",
          "Día 1 10:00",
          "Día 1 11:00",
          "Día 1 12:00",
          "Día 1 13:00",
          "Día 1 14:00",
          "Día 1 15:00",
          "Día 1 16:00",
          "Día 1 17:00",
          "Día 1 18:00",
          "Día 1 19:00",
          "Día 1 20:00",
          "Día 1 21:00",
          "Día 1 22:00",
          "Día 1 23:00",
          "Día 1 00:00",
          "Día 2 01:00",
          "Día 2 02:00",
          "Día 2 03:00",
          "Día 2 04:00",
          "Día 2 05:00",
          "Día 2 06:00",
          "Día 2 07:00",
          "Día 2 08:00",
          "Día 2 09:00",
          "Día 2 10:00",
          "Día 2 11:00",
          "Día 2 12:00",
          "Día 2 13:00",
          "Día 2 14:00",
          "Día 2 15:00",
          "Día 2 16:00",
          "Día 2 17:00",
          "Día 2 18:00",
          "Día 2 19:00",
          "Día 2 20:00",
          "Día 2 21:00",
          "Día 2 22:00",
          "Día 2 23:00",
          "Día 2 00:00",
          "Día 3 01:00",
          "Día 3 02:00",
          "Día 3 03:00",
          "Día 3 04:00",
          "Día 3 05:00",
          "Día 3 06:00",
          "Día 3 07:00",
          "Día 3 08:00",
          "Día 3 09:00",
          "Día 3 10:00",
          "Día 3 11:00",
          "Día 3 12:00",
          "Día 3 13:00",
          "Día 3 14:00",
          "Día 3 15:00",
          "Día 3 16:00",
          "Día 3 17:00",
          "Día 3 18:00",
          "Día 3 19:00",
          "Día 3 20:00",
          "Día 3 21:00",
          "Día 3 22:00",
          "Día 3 23:00",
          "Día 3 00:00",
          "Día 4 01:00",
          "Día 4 02:00",
          "Día 4 03:00",
          "Día 4 04:00",
          "Día 4 05:00",
          "Día 4 06:00",
          "Día 4 07:00",
          "Día 4 08:00",
          "Día 4 09:00",
          "Día 4 10:00",
          "Día 4 11:00",
          "Día 4 12:00",
          "Día 4 13:00",
          "Día 4 14:00",
          "Día 4 15:00",
          "Día 4 16:00",
          "Día 4 17:00",
          "Día 4 18:00",
          "Día 4 19:00",
          "Día 4 20:00",
          "Día 4 21:00",
          "Día 4 22:00",
          "Día 4 23:00",
          "Día 4 00:00",
          "Día 5 01:00",
          "Día 5 02:00",
          "Día 5 03:00",
          "Día 5 04:00",
          "Día 5 05:00",
          "Día 5 06:00",
          "Día 5 07:00",
          "Día 5 08:00",
          "Día 5 09:00",
          "Día 5 10:00",
          "Día 5 11:00",
          "Día 5 12:00",
          "Día 5 13:00",
          "Día 5 14:00",
          "Día 5 15:00",
          "Día 5 16:00",
          "Día 5 17:00",
          "Día 5 18:00",
          "Día 5 19:00",
          "Día 5 20:00",
          "Día 5 21:00",
          "Día 5 22:00",
          "Día 5 23:00",
          "Día 5 00:00",
          "Día 6 01:00",
          "Día 6 02:00",
          "Día 6 03:00",
          "Día 6 04:00",
          "Día 6 05:00",
          "Día 6 06:00",
          "Día 6 07:00",
          "Día 6 08:00",
          "Día 6 09:00",
          "Día 6 10:00",
          "Día 6 11:00",
          "Día 6 12:00",
          "Día 6 13:00",
          "Día 6 14:00",
          "Día 6 15:00",
          "Día 6 16:00",
          "Día 6 17:00",
          "Día 6 18:00",
          "Día 6 19:00",
          "Día 6 20:00",
          "Día 6 21:00",
          "Día 6 22:00",
          "Día 6 23:00",
          "Día 6 00:00",
          "Día 7 01:00",
          "Día 7 02:00",
          "Día 7 03:00",
          "Día 7 04:00",
          "Día 7 05:00",
          "Día 7 06:00",
          "Día 7 07:00",
          "Día 7 08:00",
          "Día 7 09:00",
          "Día 7 10:00",
          "Día 7 11:00",
          "Día 7 12:00",
          "Día 7 13:00",
          "Día 7 14:00",
          "Día 7 15:00",
          "Día 7 16:00",
          "Día 7 17:00",
          "Día 7 18:00",
          "Día 7 19:00",
          "Día 7 20:00",
          "Día 7 21:00",
          "Día 7 22:00",
          "Día 7 23:00"
         ],
         "y": [
          0,
          0,
          7.2569113,
          0,
          7.4,
          0,
          0,
          0,
          0,
          0,
          0,
          0,
          0,
          0,
          0,
          0,
          0,
          0,
          0,
          0,
          0,
          0,
          5.8083031,
          0.085073171,
          1.922461,
          0,
          2.1312095,
          2.1835956,
          2.202691,
          0,
          0,
          0,
          0,
          0,
          0,
          0,
          0,
          0,
          0,
          0,
          0,
          0,
          0,
          0,
          1.6459991,
          1.6715044,
          5.6625346,
          1.1551315,
          0,
          2.0596966,
          2.1384671,
          0,
          0,
          0,
          0,
          0,
          0,
          0,
          0,
          0,
          0,
          0,
          0,
          0,
          0,
          0,
          0,
          0,
          1.682088,
          1.7013014,
          5.9672406,
          1.8567378,
          1.9635346,
          0,
          0,
          1.1624309,
          0,
          0,
          0,
          0,
          0,
          0,
          0,
          0,
          0,
          0,
          0,
          0,
          0,
          0,
          0,
          0,
          5.7527374,
          1.7186265,
          1.7782202,
          1.8600751,
          1.9632811,
          0,
          1.260393,
          0,
          0,
          0,
          0,
          0,
          0,
          0,
          0,
          0,
          0,
          0,
          0,
          0,
          0,
          0,
          0,
          0,
          5.3800821,
          1.7791977,
          1.8252959,
          0,
          1.9648014,
          2.0399789,
          2.1232313,
          1.1623081,
          0,
          0,
          0,
          0,
          0,
          0,
          0,
          0,
          0,
          0,
          0,
          0,
          0,
          0,
          0,
          0,
          0,
          0,
          1.8158201,
          1.8964584,
          1.9742779,
          2.0468293,
          2.1282864,
          2.1722226,
          1.6912099,
          0,
          0,
          0,
          0,
          0,
          0,
          0,
          0,
          0,
          0,
          0,
          0,
          0,
          0,
          0,
          0,
          0,
          0
         ]
        },
        {
         "mode": "lines",
         "name": "Consumo: WaterPump",
         "type": "scatter",
         "x": [
          "Día 1 01:00",
          "Día 1 02:00",
          "Día 1 03:00",
          "Día 1 04:00",
          "Día 1 05:00",
          "Día 1 06:00",
          "Día 1 07:00",
          "Día 1 08:00",
          "Día 1 09:00",
          "Día 1 10:00",
          "Día 1 11:00",
          "Día 1 12:00",
          "Día 1 13:00",
          "Día 1 14:00",
          "Día 1 15:00",
          "Día 1 16:00",
          "Día 1 17:00",
          "Día 1 18:00",
          "Día 1 19:00",
          "Día 1 20:00",
          "Día 1 21:00",
          "Día 1 22:00",
          "Día 1 23:00",
          "Día 1 00:00",
          "Día 2 01:00",
          "Día 2 02:00",
          "Día 2 03:00",
          "Día 2 04:00",
          "Día 2 05:00",
          "Día 2 06:00",
          "Día 2 07:00",
          "Día 2 08:00",
          "Día 2 09:00",
          "Día 2 10:00",
          "Día 2 11:00",
          "Día 2 12:00",
          "Día 2 13:00",
          "Día 2 14:00",
          "Día 2 15:00",
          "Día 2 16:00",
          "Día 2 17:00",
          "Día 2 18:00",
          "Día 2 19:00",
          "Día 2 20:00",
          "Día 2 21:00",
          "Día 2 22:00",
          "Día 2 23:00",
          "Día 2 00:00",
          "Día 3 01:00",
          "Día 3 02:00",
          "Día 3 03:00",
          "Día 3 04:00",
          "Día 3 05:00",
          "Día 3 06:00",
          "Día 3 07:00",
          "Día 3 08:00",
          "Día 3 09:00",
          "Día 3 10:00",
          "Día 3 11:00",
          "Día 3 12:00",
          "Día 3 13:00",
          "Día 3 14:00",
          "Día 3 15:00",
          "Día 3 16:00",
          "Día 3 17:00",
          "Día 3 18:00",
          "Día 3 19:00",
          "Día 3 20:00",
          "Día 3 21:00",
          "Día 3 22:00",
          "Día 3 23:00",
          "Día 3 00:00",
          "Día 4 01:00",
          "Día 4 02:00",
          "Día 4 03:00",
          "Día 4 04:00",
          "Día 4 05:00",
          "Día 4 06:00",
          "Día 4 07:00",
          "Día 4 08:00",
          "Día 4 09:00",
          "Día 4 10:00",
          "Día 4 11:00",
          "Día 4 12:00",
          "Día 4 13:00",
          "Día 4 14:00",
          "Día 4 15:00",
          "Día 4 16:00",
          "Día 4 17:00",
          "Día 4 18:00",
          "Día 4 19:00",
          "Día 4 20:00",
          "Día 4 21:00",
          "Día 4 22:00",
          "Día 4 23:00",
          "Día 4 00:00",
          "Día 5 01:00",
          "Día 5 02:00",
          "Día 5 03:00",
          "Día 5 04:00",
          "Día 5 05:00",
          "Día 5 06:00",
          "Día 5 07:00",
          "Día 5 08:00",
          "Día 5 09:00",
          "Día 5 10:00",
          "Día 5 11:00",
          "Día 5 12:00",
          "Día 5 13:00",
          "Día 5 14:00",
          "Día 5 15:00",
          "Día 5 16:00",
          "Día 5 17:00",
          "Día 5 18:00",
          "Día 5 19:00",
          "Día 5 20:00",
          "Día 5 21:00",
          "Día 5 22:00",
          "Día 5 23:00",
          "Día 5 00:00",
          "Día 6 01:00",
          "Día 6 02:00",
          "Día 6 03:00",
          "Día 6 04:00",
          "Día 6 05:00",
          "Día 6 06:00",
          "Día 6 07:00",
          "Día 6 08:00",
          "Día 6 09:00",
          "Día 6 10:00",
          "Día 6 11:00",
          "Día 6 12:00",
          "Día 6 13:00",
          "Día 6 14:00",
          "Día 6 15:00",
          "Día 6 16:00",
          "Día 6 17:00",
          "Día 6 18:00",
          "Día 6 19:00",
          "Día 6 20:00",
          "Día 6 21:00",
          "Día 6 22:00",
          "Día 6 23:00",
          "Día 6 00:00",
          "Día 7 01:00",
          "Día 7 02:00",
          "Día 7 03:00",
          "Día 7 04:00",
          "Día 7 05:00",
          "Día 7 06:00",
          "Día 7 07:00",
          "Día 7 08:00",
          "Día 7 09:00",
          "Día 7 10:00",
          "Día 7 11:00",
          "Día 7 12:00",
          "Día 7 13:00",
          "Día 7 14:00",
          "Día 7 15:00",
          "Día 7 16:00",
          "Día 7 17:00",
          "Día 7 18:00",
          "Día 7 19:00",
          "Día 7 20:00",
          "Día 7 21:00",
          "Día 7 22:00",
          "Día 7 23:00"
         ],
         "y": [
          0,
          0,
          0,
          0,
          0,
          0,
          0,
          0,
          0,
          0,
          0,
          0,
          0,
          2,
          0,
          0,
          0,
          0,
          0,
          0,
          0,
          0,
          0,
          0,
          0,
          0,
          0,
          0,
          0,
          0,
          0,
          0,
          0,
          0,
          0,
          2,
          2,
          2,
          2,
          0,
          0,
          0,
          0,
          0,
          0,
          0,
          0,
          0,
          0,
          0,
          0,
          0,
          0,
          0,
          0,
          0,
          0,
          0,
          0,
          2,
          0,
          0,
          0,
          0,
          0,
          0,
          0,
          0,
          0,
          0,
          0,
          0,
          0,
          0,
          0,
          0,
          0,
          0,
          0,
          0,
          0,
          0,
          0,
          0,
          0,
          0,
          2,
          0,
          0,
          0,
          0,
          0,
          0,
          0,
          0,
          0,
          0,
          0,
          0,
          0,
          0,
          0,
          0,
          0,
          0,
          0,
          0,
          2,
          2,
          0,
          0,
          0,
          0,
          0,
          0,
          0,
          0,
          0,
          0,
          0,
          0,
          0,
          0,
          0,
          0,
          0,
          0,
          0,
          0,
          0,
          0,
          0,
          0,
          0,
          2,
          0,
          0,
          0,
          0,
          0,
          0,
          0,
          0,
          0,
          0,
          0,
          0,
          0,
          0,
          0,
          0,
          0,
          0,
          0,
          0,
          2,
          0,
          2,
          0,
          0,
          0,
          0,
          0,
          0,
          0,
          0,
          0
         ]
        },
        {
         "mode": "lines",
         "name": "Consumo total",
         "type": "scatter",
         "x": [
          "Día 1 01:00",
          "Día 1 02:00",
          "Día 1 03:00",
          "Día 1 04:00",
          "Día 1 05:00",
          "Día 1 06:00",
          "Día 1 07:00",
          "Día 1 08:00",
          "Día 1 09:00",
          "Día 1 10:00",
          "Día 1 11:00",
          "Día 1 12:00",
          "Día 1 13:00",
          "Día 1 14:00",
          "Día 1 15:00",
          "Día 1 16:00",
          "Día 1 17:00",
          "Día 1 18:00",
          "Día 1 19:00",
          "Día 1 20:00",
          "Día 1 21:00",
          "Día 1 22:00",
          "Día 1 23:00",
          "Día 1 00:00",
          "Día 2 01:00",
          "Día 2 02:00",
          "Día 2 03:00",
          "Día 2 04:00",
          "Día 2 05:00",
          "Día 2 06:00",
          "Día 2 07:00",
          "Día 2 08:00",
          "Día 2 09:00",
          "Día 2 10:00",
          "Día 2 11:00",
          "Día 2 12:00",
          "Día 2 13:00",
          "Día 2 14:00",
          "Día 2 15:00",
          "Día 2 16:00",
          "Día 2 17:00",
          "Día 2 18:00",
          "Día 2 19:00",
          "Día 2 20:00",
          "Día 2 21:00",
          "Día 2 22:00",
          "Día 2 23:00",
          "Día 2 00:00",
          "Día 3 01:00",
          "Día 3 02:00",
          "Día 3 03:00",
          "Día 3 04:00",
          "Día 3 05:00",
          "Día 3 06:00",
          "Día 3 07:00",
          "Día 3 08:00",
          "Día 3 09:00",
          "Día 3 10:00",
          "Día 3 11:00",
          "Día 3 12:00",
          "Día 3 13:00",
          "Día 3 14:00",
          "Día 3 15:00",
          "Día 3 16:00",
          "Día 3 17:00",
          "Día 3 18:00",
          "Día 3 19:00",
          "Día 3 20:00",
          "Día 3 21:00",
          "Día 3 22:00",
          "Día 3 23:00",
          "Día 3 00:00",
          "Día 4 01:00",
          "Día 4 02:00",
          "Día 4 03:00",
          "Día 4 04:00",
          "Día 4 05:00",
          "Día 4 06:00",
          "Día 4 07:00",
          "Día 4 08:00",
          "Día 4 09:00",
          "Día 4 10:00",
          "Día 4 11:00",
          "Día 4 12:00",
          "Día 4 13:00",
          "Día 4 14:00",
          "Día 4 15:00",
          "Día 4 16:00",
          "Día 4 17:00",
          "Día 4 18:00",
          "Día 4 19:00",
          "Día 4 20:00",
          "Día 4 21:00",
          "Día 4 22:00",
          "Día 4 23:00",
          "Día 4 00:00",
          "Día 5 01:00",
          "Día 5 02:00",
          "Día 5 03:00",
          "Día 5 04:00",
          "Día 5 05:00",
          "Día 5 06:00",
          "Día 5 07:00",
          "Día 5 08:00",
          "Día 5 09:00",
          "Día 5 10:00",
          "Día 5 11:00",
          "Día 5 12:00",
          "Día 5 13:00",
          "Día 5 14:00",
          "Día 5 15:00",
          "Día 5 16:00",
          "Día 5 17:00",
          "Día 5 18:00",
          "Día 5 19:00",
          "Día 5 20:00",
          "Día 5 21:00",
          "Día 5 22:00",
          "Día 5 23:00",
          "Día 5 00:00",
          "Día 6 01:00",
          "Día 6 02:00",
          "Día 6 03:00",
          "Día 6 04:00",
          "Día 6 05:00",
          "Día 6 06:00",
          "Día 6 07:00",
          "Día 6 08:00",
          "Día 6 09:00",
          "Día 6 10:00",
          "Día 6 11:00",
          "Día 6 12:00",
          "Día 6 13:00",
          "Día 6 14:00",
          "Día 6 15:00",
          "Día 6 16:00",
          "Día 6 17:00",
          "Día 6 18:00",
          "Día 6 19:00",
          "Día 6 20:00",
          "Día 6 21:00",
          "Día 6 22:00",
          "Día 6 23:00",
          "Día 6 00:00",
          "Día 7 01:00",
          "Día 7 02:00",
          "Día 7 03:00",
          "Día 7 04:00",
          "Día 7 05:00",
          "Día 7 06:00",
          "Día 7 07:00",
          "Día 7 08:00",
          "Día 7 09:00",
          "Día 7 10:00",
          "Día 7 11:00",
          "Día 7 12:00",
          "Día 7 13:00",
          "Día 7 14:00",
          "Día 7 15:00",
          "Día 7 16:00",
          "Día 7 17:00",
          "Día 7 18:00",
          "Día 7 19:00",
          "Día 7 20:00",
          "Día 7 21:00",
          "Día 7 22:00",
          "Día 7 23:00"
         ],
         "y": [
          0.56085475,
          0.46655422,
          7.63385555,
          0.32357796,
          7.700444900000001,
          0.29282165,
          0.3194902,
          0.38269686,
          0.44627504,
          0.53842509,
          0.61109734,
          0.65273563,
          0.70168902,
          3.20931446,
          1.1988297,
          1.1642632800000001,
          0.66251829,
          0.68217443,
          0.7804277,
          0.84662631,
          0.86775327,
          0.83824107,
          6.6179844999999995,
          0.780037461,
          2.49999998,
          0.4619645,
          2.5,
          2.5,
          2.5000000200000003,
          0.30661847,
          0.33415679,
          0.38508471,
          0.45085388,
          0.53347561,
          0.60256816,
          2.67071733,
          2.69516267,
          2.70620993,
          2.66889242,
          0.64917966,
          0.63295013,
          0.67792639,
          0.77219773,
          0.82628071,
          2.49999997,
          2.5000000399999998,
          6.43718464,
          1.83184579,
          0.55624586,
          2.4999999500000003,
          2.49999998,
          0.32619142,
          0.29636346,
          0.30075152,
          0.31019708,
          0.36835518,
          0.43245274,
          0.49121429,
          0.55084582,
          2.59514678,
          0.61902548,
          0.66530836,
          0.67400283,
          0.68905379,
          0.6802439,
          0.71086106,
          0.78424804,
          0.82830575,
          2.50000002,
          2.50000001,
          6.6946014400000005,
          2.5,
          2.49999998,
          0.44727635,
          0.35893924,
          1.4752257599999998,
          0.29355793,
          0.29928615,
          0.31598214,
          0.36295841,
          0.40433362,
          0.47321842,
          0.53925871,
          0.59937021,
          0.62445383,
          0.65736106,
          2.6534562299999997,
          0.6500331,
          0.64554247,
          0.67419774,
          0.76163502,
          0.80145383,
          6.55776898,
          2.49999998,
          2.50000003,
          2.49999997,
          2.49999996,
          0.44043445,
          1.6306033700000002,
          0.3232831,
          0.29939852,
          0.29303114,
          0.31775348,
          0.35737064,
          0.40791311,
          0.45827766,
          0.51679508,
          2.57693815,
          2.6012132,
          0.62183319,
          0.63036542,
          0.61841028,
          0.61058341,
          0.62679268,
          0.70580814,
          0.74884909,
          6.12178397,
          2.4999999600000002,
          2.49999995,
          0.61276699,
          2.50000001,
          2.50000002,
          2.50000003,
          1.49647992,
          0.30671603,
          0.29559952,
          0.2884375,
          0.30701808,
          0.31858798,
          0.3757574,
          0.46068423,
          2.7779179000000003,
          2.8247582700000002,
          2.84664917,
          2.6139849699999997,
          0.6125699,
          0.60275653,
          0.60525065,
          0.68010061,
          0.70964983,
          0.70298781,
          0.70904029,
          2.49999998,
          2.49999999,
          2.50000003,
          2.5000000300000003,
          2.50000003,
          2.5000000399999998,
          1.99201282,
          0.29729029,
          0.28165658,
          0.28530727,
          0.2841642,
          0.34515767,
          0.42673998,
          2.50567835,
          0.57935126,
          2.65455466,
          0.69006402,
          0.67903201,
          0.66849935,
          0.68092334,
          0.78111607,
          0.81887152,
          0.81301938,
          0.81721298,
          0.75319403
         ]
        },
        {
         "mode": "lines",
         "name": "Inyección: gd1",
         "type": "scatter",
         "x": [
          "Día 1 01:00",
          "Día 1 02:00",
          "Día 1 03:00",
          "Día 1 04:00",
          "Día 1 05:00",
          "Día 1 06:00",
          "Día 1 07:00",
          "Día 1 08:00",
          "Día 1 09:00",
          "Día 1 10:00",
          "Día 1 11:00",
          "Día 1 12:00",
          "Día 1 13:00",
          "Día 1 14:00",
          "Día 1 15:00",
          "Día 1 16:00",
          "Día 1 17:00",
          "Día 1 18:00",
          "Día 1 19:00",
          "Día 1 20:00",
          "Día 1 21:00",
          "Día 1 22:00",
          "Día 1 23:00",
          "Día 1 00:00",
          "Día 2 01:00",
          "Día 2 02:00",
          "Día 2 03:00",
          "Día 2 04:00",
          "Día 2 05:00",
          "Día 2 06:00",
          "Día 2 07:00",
          "Día 2 08:00",
          "Día 2 09:00",
          "Día 2 10:00",
          "Día 2 11:00",
          "Día 2 12:00",
          "Día 2 13:00",
          "Día 2 14:00",
          "Día 2 15:00",
          "Día 2 16:00",
          "Día 2 17:00",
          "Día 2 18:00",
          "Día 2 19:00",
          "Día 2 20:00",
          "Día 2 21:00",
          "Día 2 22:00",
          "Día 2 23:00",
          "Día 2 00:00",
          "Día 3 01:00",
          "Día 3 02:00",
          "Día 3 03:00",
          "Día 3 04:00",
          "Día 3 05:00",
          "Día 3 06:00",
          "Día 3 07:00",
          "Día 3 08:00",
          "Día 3 09:00",
          "Día 3 10:00",
          "Día 3 11:00",
          "Día 3 12:00",
          "Día 3 13:00",
          "Día 3 14:00",
          "Día 3 15:00",
          "Día 3 16:00",
          "Día 3 17:00",
          "Día 3 18:00",
          "Día 3 19:00",
          "Día 3 20:00",
          "Día 3 21:00",
          "Día 3 22:00",
          "Día 3 23:00",
          "Día 3 00:00",
          "Día 4 01:00",
          "Día 4 02:00",
          "Día 4 03:00",
          "Día 4 04:00",
          "Día 4 05:00",
          "Día 4 06:00",
          "Día 4 07:00",
          "Día 4 08:00",
          "Día 4 09:00",
          "Día 4 10:00",
          "Día 4 11:00",
          "Día 4 12:00",
          "Día 4 13:00",
          "Día 4 14:00",
          "Día 4 15:00",
          "Día 4 16:00",
          "Día 4 17:00",
          "Día 4 18:00",
          "Día 4 19:00",
          "Día 4 20:00",
          "Día 4 21:00",
          "Día 4 22:00",
          "Día 4 23:00",
          "Día 4 00:00",
          "Día 5 01:00",
          "Día 5 02:00",
          "Día 5 03:00",
          "Día 5 04:00",
          "Día 5 05:00",
          "Día 5 06:00",
          "Día 5 07:00",
          "Día 5 08:00",
          "Día 5 09:00",
          "Día 5 10:00",
          "Día 5 11:00",
          "Día 5 12:00",
          "Día 5 13:00",
          "Día 5 14:00",
          "Día 5 15:00",
          "Día 5 16:00",
          "Día 5 17:00",
          "Día 5 18:00",
          "Día 5 19:00",
          "Día 5 20:00",
          "Día 5 21:00",
          "Día 5 22:00",
          "Día 5 23:00",
          "Día 5 00:00",
          "Día 6 01:00",
          "Día 6 02:00",
          "Día 6 03:00",
          "Día 6 04:00",
          "Día 6 05:00",
          "Día 6 06:00",
          "Día 6 07:00",
          "Día 6 08:00",
          "Día 6 09:00",
          "Día 6 10:00",
          "Día 6 11:00",
          "Día 6 12:00",
          "Día 6 13:00",
          "Día 6 14:00",
          "Día 6 15:00",
          "Día 6 16:00",
          "Día 6 17:00",
          "Día 6 18:00",
          "Día 6 19:00",
          "Día 6 20:00",
          "Día 6 21:00",
          "Día 6 22:00",
          "Día 6 23:00",
          "Día 6 00:00",
          "Día 7 01:00",
          "Día 7 02:00",
          "Día 7 03:00",
          "Día 7 04:00",
          "Día 7 05:00",
          "Día 7 06:00",
          "Día 7 07:00",
          "Día 7 08:00",
          "Día 7 09:00",
          "Día 7 10:00",
          "Día 7 11:00",
          "Día 7 12:00",
          "Día 7 13:00",
          "Día 7 14:00",
          "Día 7 15:00",
          "Día 7 16:00",
          "Día 7 17:00",
          "Día 7 18:00",
          "Día 7 19:00",
          "Día 7 20:00",
          "Día 7 21:00",
          "Día 7 22:00",
          "Día 7 23:00"
         ],
         "y": [
          0,
          0,
          0,
          0,
          0,
          0,
          0,
          0.28,
          1.036,
          2.122,
          3.1110973,
          3.1527356,
          3.201689,
          5.7093145,
          3.6988297,
          3.6642633,
          2.428,
          0.398,
          0,
          0,
          0,
          0,
          0,
          0,
          0,
          0,
          0,
          0,
          0,
          0,
          0,
          0.28,
          1.036,
          2.122,
          3.1025682,
          5.1707173,
          5.1951627,
          5.2062099,
          5.1688924,
          3.1491797,
          2.428,
          0.398,
          0,
          0,
          0,
          0,
          0,
          0,
          0,
          0,
          0,
          0,
          0,
          0,
          0,
          0.28,
          1.036,
          2.122,
          3.0508458,
          5.0951468,
          3.1190255,
          3.1653084,
          3.1740028,
          3.1890538,
          2.428,
          0.398,
          0,
          0,
          0,
          0,
          0,
          0,
          0,
          0,
          0,
          0,
          0,
          0,
          0,
          0.28,
          1.036,
          2.122,
          3.0392587,
          3.0993702,
          3.1244538,
          3.1573611,
          5.1534562,
          3.1500331,
          2.428,
          0.398,
          0,
          0,
          0,
          0,
          0,
          0,
          0,
          0,
          0,
          0,
          0,
          0,
          0,
          0.28,
          1.036,
          2.122,
          3.0167951,
          5.0769382,
          5.1012132,
          3.1218332,
          3.1303654,
          3.1184103,
          2.428,
          0.398,
          0,
          0,
          0,
          0,
          0,
          0,
          0,
          0,
          0,
          0,
          0,
          0,
          0,
          0.28,
          1.036,
          2.122,
          2.9606842,
          5.2779179,
          5.3247583,
          5.3466492,
          5.113985,
          3.1125699,
          2.428,
          0.398,
          0,
          0,
          0,
          0,
          0,
          0,
          0,
          0,
          0,
          0,
          0,
          0,
          0.28,
          0.28530727,
          0.2841642,
          0.34515767,
          0.42673998,
          2.5056784,
          0.57935126,
          4.4979776,
          3.190064,
          2.428,
          0.398,
          0,
          0,
          0,
          0,
          0,
          0
         ]
        },
        {
         "mode": "lines",
         "name": "Inyección: b1",
         "type": "scatter",
         "x": [
          "Día 1 01:00",
          "Día 1 02:00",
          "Día 1 03:00",
          "Día 1 04:00",
          "Día 1 05:00",
          "Día 1 06:00",
          "Día 1 07:00",
          "Día 1 08:00",
          "Día 1 09:00",
          "Día 1 10:00",
          "Día 1 11:00",
          "Día 1 12:00",
          "Día 1 13:00",
          "Día 1 14:00",
          "Día 1 15:00",
          "Día 1 16:00",
          "Día 1 17:00",
          "Día 1 18:00",
          "Día 1 19:00",
          "Día 1 20:00",
          "Día 1 21:00",
          "Día 1 22:00",
          "Día 1 23:00",
          "Día 1 00:00",
          "Día 2 01:00",
          "Día 2 02:00",
          "Día 2 03:00",
          "Día 2 04:00",
          "Día 2 05:00",
          "Día 2 06:00",
          "Día 2 07:00",
          "Día 2 08:00",
          "Día 2 09:00",
          "Día 2 10:00",
          "Día 2 11:00",
          "Día 2 12:00",
          "Día 2 13:00",
          "Día 2 14:00",
          "Día 2 15:00",
          "Día 2 16:00",
          "Día 2 17:00",
          "Día 2 18:00",
          "Día 2 19:00",
          "Día 2 20:00",
          "Día 2 21:00",
          "Día 2 22:00",
          "Día 2 23:00",
          "Día 2 00:00",
          "Día 3 01:00",
          "Día 3 02:00",
          "Día 3 03:00",
          "Día 3 04:00",
          "Día 3 05:00",
          "Día 3 06:00",
          "Día 3 07:00",
          "Día 3 08:00",
          "Día 3 09:00",
          "Día 3 10:00",
          "Día 3 11:00",
          "Día 3 12:00",
          "Día 3 13:00",
          "Día 3 14:00",
          "Día 3 15:00",
          "Día 3 16:00",
          "Día 3 17:00",
          "Día 3 18:00",
          "Día 3 19:00",
          "Día 3 20:00",
          "Día 3 21:00",
          "Día 3 22:00",
          "Día 3 23:00",
          "Día 3 00:00",
          "Día 4 01:00",
          "Día 4 02:00",
          "Día 4 03:00",
          "Día 4 04:00",
          "Día 4 05:00",
          "Día 4 06:00",
          "Día 4 07:00",
          "Día 4 08:00",
          "Día 4 09:00",
          "Día 4 10:00",
          "Día 4 11:00",
          "Día 4 12:00",
          "Día 4 13:00",
          "Día 4 14:00",
          "Día 4 15:00",
          "Día 4 16:00",
          "Día 4 17:00",
          "Día 4 18:00",
          "Día 4 19:00",
          "Día 4 20:00",
          "Día 4 21:00",
          "Día 4 22:00",
          "Día 4 23:00",
          "Día 4 00:00",
          "Día 5 01:00",
          "Día 5 02:00",
          "Día 5 03:00",
          "Día 5 04:00",
          "Día 5 05:00",
          "Día 5 06:00",
          "Día 5 07:00",
          "Día 5 08:00",
          "Día 5 09:00",
          "Día 5 10:00",
          "Día 5 11:00",
          "Día 5 12:00",
          "Día 5 13:00",
          "Día 5 14:00",
          "Día 5 15:00",
          "Día 5 16:00",
          "Día 5 17:00",
          "Día 5 18:00",
          "Día 5 19:00",
          "Día 5 20:00",
          "Día 5 21:00",
          "Día 5 22:00",
          "Día 5 23:00",
          "Día 5 00:00",
          "Día 6 01:00",
          "Día 6 02:00",
          "Día 6 03:00",
          "Día 6 04:00",
          "Día 6 05:00",
          "Día 6 06:00",
          "Día 6 07:00",
          "Día 6 08:00",
          "Día 6 09:00",
          "Día 6 10:00",
          "Día 6 11:00",
          "Día 6 12:00",
          "Día 6 13:00",
          "Día 6 14:00",
          "Día 6 15:00",
          "Día 6 16:00",
          "Día 6 17:00",
          "Día 6 18:00",
          "Día 6 19:00",
          "Día 6 20:00",
          "Día 6 21:00",
          "Día 6 22:00",
          "Día 6 23:00",
          "Día 6 00:00",
          "Día 7 01:00",
          "Día 7 02:00",
          "Día 7 03:00",
          "Día 7 04:00",
          "Día 7 05:00",
          "Día 7 06:00",
          "Día 7 07:00",
          "Día 7 08:00",
          "Día 7 09:00",
          "Día 7 10:00",
          "Día 7 11:00",
          "Día 7 12:00",
          "Día 7 13:00",
          "Día 7 14:00",
          "Día 7 15:00",
          "Día 7 16:00",
          "Día 7 17:00",
          "Día 7 18:00",
          "Día 7 19:00",
          "Día 7 20:00",
          "Día 7 21:00",
          "Día 7 22:00",
          "Día 7 23:00"
         ],
         "y": [
          0,
          0,
          0,
          0,
          0,
          0,
          0,
          0,
          0,
          0,
          0,
          0,
          0,
          0,
          0,
          0,
          0,
          0.28417443,
          0.7804277,
          0.84662631,
          0.86775327,
          0.83824107,
          2.5,
          0.78003746,
          2.5,
          0.4619645,
          2.5,
          2.5,
          2.5,
          0.30661847,
          0.33415679,
          0,
          0,
          0,
          0,
          0,
          0,
          0,
          0,
          0,
          0,
          0.27992639,
          0.77219773,
          0.82628071,
          2.5,
          2.5,
          2.5,
          1.8318458,
          0.55624586,
          2.5,
          2.5,
          0.32619142,
          0.29636346,
          0.30075152,
          0.31019708,
          0,
          0,
          0,
          0,
          0,
          0,
          0,
          0,
          0,
          0,
          0.31286106,
          0.78424804,
          0.82830575,
          2.5,
          2.5,
          2.5,
          2.5,
          2.5,
          0.44727635,
          0.35893924,
          1.4752258,
          0.29355793,
          0.29928615,
          0.31598214,
          0,
          0,
          0,
          0,
          0,
          0,
          0,
          0,
          0,
          0,
          0.27619773,
          0.76163502,
          0.80145383,
          2.5,
          2.5,
          2.5,
          2.5,
          2.5,
          0.44043445,
          1.6306033,
          0.3232831,
          0.29939852,
          0.29303114,
          0.31775348,
          0,
          0,
          0,
          0,
          0,
          0,
          0,
          0,
          0,
          0,
          0.22879268,
          0.70580814,
          0,
          2.5,
          2.5,
          2.5,
          0.61276699,
          2.5,
          2.5,
          2.5,
          1.49648,
          0.30671603,
          0.29559952,
          0.2884375,
          0,
          0,
          0,
          0,
          0,
          0,
          0,
          0,
          0,
          0,
          0.20725065,
          0,
          0,
          0,
          0.70904029,
          2.5,
          2.5,
          2.5,
          2.5,
          2.5,
          2.5,
          1.9920128,
          0.29729029,
          0.001656577,
          0,
          0,
          0,
          0,
          0,
          0,
          0,
          0,
          0,
          0.27049935,
          0.68092334,
          0.78111607,
          0.81887152,
          0.81301938,
          0.81721298,
          0.75319403
         ]
        },
        {
         "mode": "lines",
         "name": "Inyección: g1",
         "type": "scatter",
         "x": [
          "Día 1 01:00",
          "Día 1 02:00",
          "Día 1 03:00",
          "Día 1 04:00",
          "Día 1 05:00",
          "Día 1 06:00",
          "Día 1 07:00",
          "Día 1 08:00",
          "Día 1 09:00",
          "Día 1 10:00",
          "Día 1 11:00",
          "Día 1 12:00",
          "Día 1 13:00",
          "Día 1 14:00",
          "Día 1 15:00",
          "Día 1 16:00",
          "Día 1 17:00",
          "Día 1 18:00",
          "Día 1 19:00",
          "Día 1 20:00",
          "Día 1 21:00",
          "Día 1 22:00",
          "Día 1 23:00",
          "Día 1 00:00",
          "Día 2 01:00",
          "Día 2 02:00",
          "Día 2 03:00",
          "Día 2 04:00",
          "Día 2 05:00",
          "Día 2 06:00",
          "Día 2 07:00",
          "Día 2 08:00",
          "Día 2 09:00",
          "Día 2 10:00",
          "Día 2 11:00",
          "Día 2 12:00",
          "Día 2 13:00",
          "Día 2 14:00",
          "Día 2 15:00",
          "Día 2 16:00",
          "Día 2 17:00",
          "Día 2 18:00",
          "Día 2 19:00",
          "Día 2 20:00",
          "Día 2 21:00",
          "Día 2 22:00",
          "Día 2 23:00",
          "Día 2 00:00",
          "Día 3 01:00",
          "Día 3 02:00",
          "Día 3 03:00",
          "Día 3 04:00",
          "Día 3 05:00",
          "Día 3 06:00",
          "Día 3 07:00",
          "Día 3 08:00",
          "Día 3 09:00",
          "Día 3 10:00",
          "Día 3 11:00",
          "Día 3 12:00",
          "Día 3 13:00",
          "Día 3 14:00",
          "Día 3 15:00",
          "Día 3 16:00",
          "Día 3 17:00",
          "Día 3 18:00",
          "Día 3 19:00",
          "Día 3 20:00",
          "Día 3 21:00",
          "Día 3 22:00",
          "Día 3 23:00",
          "Día 3 00:00",
          "Día 4 01:00",
          "Día 4 02:00",
          "Día 4 03:00",
          "Día 4 04:00",
          "Día 4 05:00",
          "Día 4 06:00",
          "Día 4 07:00",
          "Día 4 08:00",
          "Día 4 09:00",
          "Día 4 10:00",
          "Día 4 11:00",
          "Día 4 12:00",
          "Día 4 13:00",
          "Día 4 14:00",
          "Día 4 15:00",
          "Día 4 16:00",
          "Día 4 17:00",
          "Día 4 18:00",
          "Día 4 19:00",
          "Día 4 20:00",
          "Día 4 21:00",
          "Día 4 22:00",
          "Día 4 23:00",
          "Día 4 00:00",
          "Día 5 01:00",
          "Día 5 02:00",
          "Día 5 03:00",
          "Día 5 04:00",
          "Día 5 05:00",
          "Día 5 06:00",
          "Día 5 07:00",
          "Día 5 08:00",
          "Día 5 09:00",
          "Día 5 10:00",
          "Día 5 11:00",
          "Día 5 12:00",
          "Día 5 13:00",
          "Día 5 14:00",
          "Día 5 15:00",
          "Día 5 16:00",
          "Día 5 17:00",
          "Día 5 18:00",
          "Día 5 19:00",
          "Día 5 20:00",
          "Día 5 21:00",
          "Día 5 22:00",
          "Día 5 23:00",
          "Día 5 00:00",
          "Día 6 01:00",
          "Día 6 02:00",
          "Día 6 03:00",
          "Día 6 04:00",
          "Día 6 05:00",
          "Día 6 06:00",
          "Día 6 07:00",
          "Día 6 08:00",
          "Día 6 09:00",
          "Día 6 10:00",
          "Día 6 11:00",
          "Día 6 12:00",
          "Día 6 13:00",
          "Día 6 14:00",
          "Día 6 15:00",
          "Día 6 16:00",
          "Día 6 17:00",
          "Día 6 18:00",
          "Día 6 19:00",
          "Día 6 20:00",
          "Día 6 21:00",
          "Día 6 22:00",
          "Día 6 23:00",
          "Día 6 00:00",
          "Día 7 01:00",
          "Día 7 02:00",
          "Día 7 03:00",
          "Día 7 04:00",
          "Día 7 05:00",
          "Día 7 06:00",
          "Día 7 07:00",
          "Día 7 08:00",
          "Día 7 09:00",
          "Día 7 10:00",
          "Día 7 11:00",
          "Día 7 12:00",
          "Día 7 13:00",
          "Día 7 14:00",
          "Día 7 15:00",
          "Día 7 16:00",
          "Día 7 17:00",
          "Día 7 18:00",
          "Día 7 19:00",
          "Día 7 20:00",
          "Día 7 21:00",
          "Día 7 22:00",
          "Día 7 23:00"
         ],
         "y": [
          0.56085475,
          0.46655422,
          7.6338555,
          0,
          7.7004449,
          0.29282165,
          0.3194902,
          0.10269686,
          1.6324973,
          0.91642509,
          0,
          0,
          0,
          0,
          0,
          0,
          0.73451829,
          0,
          0,
          0,
          0,
          0,
          4.1179845,
          0,
          0,
          0,
          0,
          0,
          0,
          0,
          0,
          0.10508471,
          1.6370761,
          0.91147561,
          0,
          0,
          0,
          0,
          0,
          0,
          0.70495013,
          0,
          0,
          0,
          0,
          0,
          3.9371846,
          0,
          0,
          0,
          0,
          0,
          0,
          0,
          0,
          0.088355183,
          1.8964527,
          0.86921429,
          0,
          0,
          0,
          0,
          0,
          0,
          0,
          0,
          0,
          0,
          0,
          0,
          4.1946015,
          0,
          0,
          0,
          0,
          0,
          0,
          0,
          0,
          0.082958406,
          1.8683336,
          0.85121842,
          0,
          0,
          0,
          0,
          0,
          0,
          0,
          0,
          0,
          0,
          4.057769,
          0,
          0,
          0,
          0,
          0,
          0,
          0,
          0,
          0,
          0,
          0.077370645,
          1.8719131,
          0.83627766,
          0,
          0,
          0,
          0,
          0,
          0,
          0,
          0,
          0,
          2.3074829,
          3.621784,
          0,
          0,
          0,
          0,
          0,
          0,
          0,
          0,
          0,
          0,
          0.027018075,
          1.782588,
          0.7537574,
          0,
          0,
          0,
          0,
          0,
          0,
          0,
          0,
          1.3329444,
          0.70964983,
          0.70298781,
          0,
          0,
          0,
          0,
          0,
          0,
          0,
          0,
          0,
          0,
          0,
          0,
          0,
          0,
          0,
          0,
          0,
          0,
          0,
          0,
          0,
          0,
          0,
          0,
          0,
          0
         ]
        },
        {
         "mode": "lines",
         "name": "Inyección total",
         "type": "scatter",
         "x": [
          "Día 1 01:00",
          "Día 1 02:00",
          "Día 1 03:00",
          "Día 1 04:00",
          "Día 1 05:00",
          "Día 1 06:00",
          "Día 1 07:00",
          "Día 1 08:00",
          "Día 1 09:00",
          "Día 1 10:00",
          "Día 1 11:00",
          "Día 1 12:00",
          "Día 1 13:00",
          "Día 1 14:00",
          "Día 1 15:00",
          "Día 1 16:00",
          "Día 1 17:00",
          "Día 1 18:00",
          "Día 1 19:00",
          "Día 1 20:00",
          "Día 1 21:00",
          "Día 1 22:00",
          "Día 1 23:00",
          "Día 1 00:00",
          "Día 2 01:00",
          "Día 2 02:00",
          "Día 2 03:00",
          "Día 2 04:00",
          "Día 2 05:00",
          "Día 2 06:00",
          "Día 2 07:00",
          "Día 2 08:00",
          "Día 2 09:00",
          "Día 2 10:00",
          "Día 2 11:00",
          "Día 2 12:00",
          "Día 2 13:00",
          "Día 2 14:00",
          "Día 2 15:00",
          "Día 2 16:00",
          "Día 2 17:00",
          "Día 2 18:00",
          "Día 2 19:00",
          "Día 2 20:00",
          "Día 2 21:00",
          "Día 2 22:00",
          "Día 2 23:00",
          "Día 2 00:00",
          "Día 3 01:00",
          "Día 3 02:00",
          "Día 3 03:00",
          "Día 3 04:00",
          "Día 3 05:00",
          "Día 3 06:00",
          "Día 3 07:00",
          "Día 3 08:00",
          "Día 3 09:00",
          "Día 3 10:00",
          "Día 3 11:00",
          "Día 3 12:00",
          "Día 3 13:00",
          "Día 3 14:00",
          "Día 3 15:00",
          "Día 3 16:00",
          "Día 3 17:00",
          "Día 3 18:00",
          "Día 3 19:00",
          "Día 3 20:00",
          "Día 3 21:00",
          "Día 3 22:00",
          "Día 3 23:00",
          "Día 3 00:00",
          "Día 4 01:00",
          "Día 4 02:00",
          "Día 4 03:00",
          "Día 4 04:00",
          "Día 4 05:00",
          "Día 4 06:00",
          "Día 4 07:00",
          "Día 4 08:00",
          "Día 4 09:00",
          "Día 4 10:00",
          "Día 4 11:00",
          "Día 4 12:00",
          "Día 4 13:00",
          "Día 4 14:00",
          "Día 4 15:00",
          "Día 4 16:00",
          "Día 4 17:00",
          "Día 4 18:00",
          "Día 4 19:00",
          "Día 4 20:00",
          "Día 4 21:00",
          "Día 4 22:00",
          "Día 4 23:00",
          "Día 4 00:00",
          "Día 5 01:00",
          "Día 5 02:00",
          "Día 5 03:00",
          "Día 5 04:00",
          "Día 5 05:00",
          "Día 5 06:00",
          "Día 5 07:00",
          "Día 5 08:00",
          "Día 5 09:00",
          "Día 5 10:00",
          "Día 5 11:00",
          "Día 5 12:00",
          "Día 5 13:00",
          "Día 5 14:00",
          "Día 5 15:00",
          "Día 5 16:00",
          "Día 5 17:00",
          "Día 5 18:00",
          "Día 5 19:00",
          "Día 5 20:00",
          "Día 5 21:00",
          "Día 5 22:00",
          "Día 5 23:00",
          "Día 5 00:00",
          "Día 6 01:00",
          "Día 6 02:00",
          "Día 6 03:00",
          "Día 6 04:00",
          "Día 6 05:00",
          "Día 6 06:00",
          "Día 6 07:00",
          "Día 6 08:00",
          "Día 6 09:00",
          "Día 6 10:00",
          "Día 6 11:00",
          "Día 6 12:00",
          "Día 6 13:00",
          "Día 6 14:00",
          "Día 6 15:00",
          "Día 6 16:00",
          "Día 6 17:00",
          "Día 6 18:00",
          "Día 6 19:00",
          "Día 6 20:00",
          "Día 6 21:00",
          "Día 6 22:00",
          "Día 6 23:00",
          "Día 6 00:00",
          "Día 7 01:00",
          "Día 7 02:00",
          "Día 7 03:00",
          "Día 7 04:00",
          "Día 7 05:00",
          "Día 7 06:00",
          "Día 7 07:00",
          "Día 7 08:00",
          "Día 7 09:00",
          "Día 7 10:00",
          "Día 7 11:00",
          "Día 7 12:00",
          "Día 7 13:00",
          "Día 7 14:00",
          "Día 7 15:00",
          "Día 7 16:00",
          "Día 7 17:00",
          "Día 7 18:00",
          "Día 7 19:00",
          "Día 7 20:00",
          "Día 7 21:00",
          "Día 7 22:00",
          "Día 7 23:00"
         ],
         "y": [
          0.56085475,
          0.46655422,
          7.6338555,
          0,
          7.7004449,
          0.29282165,
          0.3194902,
          0.38269686,
          2.6684973000000003,
          3.03842509,
          3.1110973,
          3.1527356,
          3.201689,
          5.7093145,
          3.6988297,
          3.6642633,
          3.16251829,
          0.68217443,
          0.7804277,
          0.84662631,
          0.86775327,
          0.83824107,
          6.6179845,
          0.78003746,
          2.5,
          0.4619645,
          2.5,
          2.5,
          2.5,
          0.30661847,
          0.33415679,
          0.38508471,
          2.6730761000000003,
          3.03347561,
          3.1025682,
          5.1707173,
          5.1951627,
          5.2062099,
          5.1688924,
          3.1491797,
          3.1329501299999998,
          0.6779263900000001,
          0.77219773,
          0.82628071,
          2.5,
          2.5,
          6.4371846,
          1.8318458,
          0.55624586,
          2.5,
          2.5,
          0.32619142,
          0.29636346,
          0.30075152,
          0.31019708,
          0.36835518300000003,
          2.9324527,
          2.99121429,
          3.0508458,
          5.0951468,
          3.1190255,
          3.1653084,
          3.1740028,
          3.1890538,
          2.428,
          0.71086106,
          0.78424804,
          0.82830575,
          2.5,
          2.5,
          6.6946015,
          2.5,
          2.5,
          0.44727635,
          0.35893924,
          1.4752258,
          0.29355793,
          0.29928615,
          0.31598214,
          0.362958406,
          2.9043336,
          2.97321842,
          3.0392587,
          3.0993702,
          3.1244538,
          3.1573611,
          5.1534562,
          3.1500331,
          2.428,
          0.6741977299999999,
          0.76163502,
          0.80145383,
          6.557769,
          2.5,
          2.5,
          2.5,
          2.5,
          0.44043445,
          1.6306033,
          0.3232831,
          0.29939852,
          0.29303114,
          0.31775348,
          0.35737064500000004,
          2.9079131,
          2.95827766,
          3.0167951,
          5.0769382,
          5.1012132,
          3.1218332,
          3.1303654,
          3.1184103,
          2.428,
          0.62679268,
          0.70580814,
          2.3074829,
          6.121784,
          2.5,
          2.5,
          0.61276699,
          2.5,
          2.5,
          2.5,
          1.49648,
          0.30671603,
          0.29559952,
          0.2884375,
          0.307018075,
          2.818588,
          2.8757574,
          2.9606842,
          5.2779179,
          5.3247583,
          5.3466492,
          5.113985,
          3.1125699,
          2.428,
          0.60525065,
          1.3329444,
          0.70964983,
          0.70298781,
          0.70904029,
          2.5,
          2.5,
          2.5,
          2.5,
          2.5,
          2.5,
          1.9920128,
          0.29729029,
          0.281656577,
          0.28530727,
          0.2841642,
          0.34515767,
          0.42673998,
          2.5056784,
          0.57935126,
          4.4979776,
          3.190064,
          2.428,
          0.66849935,
          0.68092334,
          0.78111607,
          0.81887152,
          0.81301938,
          0.81721298,
          0.75319403
         ]
        }
       ],
       "layout": {
        "legend": {
         "title": {
          "text": "Leyenda"
         }
        },
        "template": {
         "data": {
          "bar": [
           {
            "error_x": {
             "color": "#2a3f5f"
            },
            "error_y": {
             "color": "#2a3f5f"
            },
            "marker": {
             "line": {
              "color": "white",
              "width": 0.5
             },
             "pattern": {
              "fillmode": "overlay",
              "size": 10,
              "solidity": 0.2
             }
            },
            "type": "bar"
           }
          ],
          "barpolar": [
           {
            "marker": {
             "line": {
              "color": "white",
              "width": 0.5
             },
             "pattern": {
              "fillmode": "overlay",
              "size": 10,
              "solidity": 0.2
             }
            },
            "type": "barpolar"
           }
          ],
          "carpet": [
           {
            "aaxis": {
             "endlinecolor": "#2a3f5f",
             "gridcolor": "#C8D4E3",
             "linecolor": "#C8D4E3",
             "minorgridcolor": "#C8D4E3",
             "startlinecolor": "#2a3f5f"
            },
            "baxis": {
             "endlinecolor": "#2a3f5f",
             "gridcolor": "#C8D4E3",
             "linecolor": "#C8D4E3",
             "minorgridcolor": "#C8D4E3",
             "startlinecolor": "#2a3f5f"
            },
            "type": "carpet"
           }
          ],
          "choropleth": [
           {
            "colorbar": {
             "outlinewidth": 0,
             "ticks": ""
            },
            "type": "choropleth"
           }
          ],
          "contour": [
           {
            "colorbar": {
             "outlinewidth": 0,
             "ticks": ""
            },
            "colorscale": [
             [
              0,
              "#0d0887"
             ],
             [
              0.1111111111111111,
              "#46039f"
             ],
             [
              0.2222222222222222,
              "#7201a8"
             ],
             [
              0.3333333333333333,
              "#9c179e"
             ],
             [
              0.4444444444444444,
              "#bd3786"
             ],
             [
              0.5555555555555556,
              "#d8576b"
             ],
             [
              0.6666666666666666,
              "#ed7953"
             ],
             [
              0.7777777777777778,
              "#fb9f3a"
             ],
             [
              0.8888888888888888,
              "#fdca26"
             ],
             [
              1,
              "#f0f921"
             ]
            ],
            "type": "contour"
           }
          ],
          "contourcarpet": [
           {
            "colorbar": {
             "outlinewidth": 0,
             "ticks": ""
            },
            "type": "contourcarpet"
           }
          ],
          "heatmap": [
           {
            "colorbar": {
             "outlinewidth": 0,
             "ticks": ""
            },
            "colorscale": [
             [
              0,
              "#0d0887"
             ],
             [
              0.1111111111111111,
              "#46039f"
             ],
             [
              0.2222222222222222,
              "#7201a8"
             ],
             [
              0.3333333333333333,
              "#9c179e"
             ],
             [
              0.4444444444444444,
              "#bd3786"
             ],
             [
              0.5555555555555556,
              "#d8576b"
             ],
             [
              0.6666666666666666,
              "#ed7953"
             ],
             [
              0.7777777777777778,
              "#fb9f3a"
             ],
             [
              0.8888888888888888,
              "#fdca26"
             ],
             [
              1,
              "#f0f921"
             ]
            ],
            "type": "heatmap"
           }
          ],
          "heatmapgl": [
           {
            "colorbar": {
             "outlinewidth": 0,
             "ticks": ""
            },
            "colorscale": [
             [
              0,
              "#0d0887"
             ],
             [
              0.1111111111111111,
              "#46039f"
             ],
             [
              0.2222222222222222,
              "#7201a8"
             ],
             [
              0.3333333333333333,
              "#9c179e"
             ],
             [
              0.4444444444444444,
              "#bd3786"
             ],
             [
              0.5555555555555556,
              "#d8576b"
             ],
             [
              0.6666666666666666,
              "#ed7953"
             ],
             [
              0.7777777777777778,
              "#fb9f3a"
             ],
             [
              0.8888888888888888,
              "#fdca26"
             ],
             [
              1,
              "#f0f921"
             ]
            ],
            "type": "heatmapgl"
           }
          ],
          "histogram": [
           {
            "marker": {
             "pattern": {
              "fillmode": "overlay",
              "size": 10,
              "solidity": 0.2
             }
            },
            "type": "histogram"
           }
          ],
          "histogram2d": [
           {
            "colorbar": {
             "outlinewidth": 0,
             "ticks": ""
            },
            "colorscale": [
             [
              0,
              "#0d0887"
             ],
             [
              0.1111111111111111,
              "#46039f"
             ],
             [
              0.2222222222222222,
              "#7201a8"
             ],
             [
              0.3333333333333333,
              "#9c179e"
             ],
             [
              0.4444444444444444,
              "#bd3786"
             ],
             [
              0.5555555555555556,
              "#d8576b"
             ],
             [
              0.6666666666666666,
              "#ed7953"
             ],
             [
              0.7777777777777778,
              "#fb9f3a"
             ],
             [
              0.8888888888888888,
              "#fdca26"
             ],
             [
              1,
              "#f0f921"
             ]
            ],
            "type": "histogram2d"
           }
          ],
          "histogram2dcontour": [
           {
            "colorbar": {
             "outlinewidth": 0,
             "ticks": ""
            },
            "colorscale": [
             [
              0,
              "#0d0887"
             ],
             [
              0.1111111111111111,
              "#46039f"
             ],
             [
              0.2222222222222222,
              "#7201a8"
             ],
             [
              0.3333333333333333,
              "#9c179e"
             ],
             [
              0.4444444444444444,
              "#bd3786"
             ],
             [
              0.5555555555555556,
              "#d8576b"
             ],
             [
              0.6666666666666666,
              "#ed7953"
             ],
             [
              0.7777777777777778,
              "#fb9f3a"
             ],
             [
              0.8888888888888888,
              "#fdca26"
             ],
             [
              1,
              "#f0f921"
             ]
            ],
            "type": "histogram2dcontour"
           }
          ],
          "mesh3d": [
           {
            "colorbar": {
             "outlinewidth": 0,
             "ticks": ""
            },
            "type": "mesh3d"
           }
          ],
          "parcoords": [
           {
            "line": {
             "colorbar": {
              "outlinewidth": 0,
              "ticks": ""
             }
            },
            "type": "parcoords"
           }
          ],
          "pie": [
           {
            "automargin": true,
            "type": "pie"
           }
          ],
          "scatter": [
           {
            "fillpattern": {
             "fillmode": "overlay",
             "size": 10,
             "solidity": 0.2
            },
            "type": "scatter"
           }
          ],
          "scatter3d": [
           {
            "line": {
             "colorbar": {
              "outlinewidth": 0,
              "ticks": ""
             }
            },
            "marker": {
             "colorbar": {
              "outlinewidth": 0,
              "ticks": ""
             }
            },
            "type": "scatter3d"
           }
          ],
          "scattercarpet": [
           {
            "marker": {
             "colorbar": {
              "outlinewidth": 0,
              "ticks": ""
             }
            },
            "type": "scattercarpet"
           }
          ],
          "scattergeo": [
           {
            "marker": {
             "colorbar": {
              "outlinewidth": 0,
              "ticks": ""
             }
            },
            "type": "scattergeo"
           }
          ],
          "scattergl": [
           {
            "marker": {
             "colorbar": {
              "outlinewidth": 0,
              "ticks": ""
             }
            },
            "type": "scattergl"
           }
          ],
          "scattermapbox": [
           {
            "marker": {
             "colorbar": {
              "outlinewidth": 0,
              "ticks": ""
             }
            },
            "type": "scattermapbox"
           }
          ],
          "scatterpolar": [
           {
            "marker": {
             "colorbar": {
              "outlinewidth": 0,
              "ticks": ""
             }
            },
            "type": "scatterpolar"
           }
          ],
          "scatterpolargl": [
           {
            "marker": {
             "colorbar": {
              "outlinewidth": 0,
              "ticks": ""
             }
            },
            "type": "scatterpolargl"
           }
          ],
          "scatterternary": [
           {
            "marker": {
             "colorbar": {
              "outlinewidth": 0,
              "ticks": ""
             }
            },
            "type": "scatterternary"
           }
          ],
          "surface": [
           {
            "colorbar": {
             "outlinewidth": 0,
             "ticks": ""
            },
            "colorscale": [
             [
              0,
              "#0d0887"
             ],
             [
              0.1111111111111111,
              "#46039f"
             ],
             [
              0.2222222222222222,
              "#7201a8"
             ],
             [
              0.3333333333333333,
              "#9c179e"
             ],
             [
              0.4444444444444444,
              "#bd3786"
             ],
             [
              0.5555555555555556,
              "#d8576b"
             ],
             [
              0.6666666666666666,
              "#ed7953"
             ],
             [
              0.7777777777777778,
              "#fb9f3a"
             ],
             [
              0.8888888888888888,
              "#fdca26"
             ],
             [
              1,
              "#f0f921"
             ]
            ],
            "type": "surface"
           }
          ],
          "table": [
           {
            "cells": {
             "fill": {
              "color": "#EBF0F8"
             },
             "line": {
              "color": "white"
             }
            },
            "header": {
             "fill": {
              "color": "#C8D4E3"
             },
             "line": {
              "color": "white"
             }
            },
            "type": "table"
           }
          ]
         },
         "layout": {
          "annotationdefaults": {
           "arrowcolor": "#2a3f5f",
           "arrowhead": 0,
           "arrowwidth": 1
          },
          "autotypenumbers": "strict",
          "coloraxis": {
           "colorbar": {
            "outlinewidth": 0,
            "ticks": ""
           }
          },
          "colorscale": {
           "diverging": [
            [
             0,
             "#8e0152"
            ],
            [
             0.1,
             "#c51b7d"
            ],
            [
             0.2,
             "#de77ae"
            ],
            [
             0.3,
             "#f1b6da"
            ],
            [
             0.4,
             "#fde0ef"
            ],
            [
             0.5,
             "#f7f7f7"
            ],
            [
             0.6,
             "#e6f5d0"
            ],
            [
             0.7,
             "#b8e186"
            ],
            [
             0.8,
             "#7fbc41"
            ],
            [
             0.9,
             "#4d9221"
            ],
            [
             1,
             "#276419"
            ]
           ],
           "sequential": [
            [
             0,
             "#0d0887"
            ],
            [
             0.1111111111111111,
             "#46039f"
            ],
            [
             0.2222222222222222,
             "#7201a8"
            ],
            [
             0.3333333333333333,
             "#9c179e"
            ],
            [
             0.4444444444444444,
             "#bd3786"
            ],
            [
             0.5555555555555556,
             "#d8576b"
            ],
            [
             0.6666666666666666,
             "#ed7953"
            ],
            [
             0.7777777777777778,
             "#fb9f3a"
            ],
            [
             0.8888888888888888,
             "#fdca26"
            ],
            [
             1,
             "#f0f921"
            ]
           ],
           "sequentialminus": [
            [
             0,
             "#0d0887"
            ],
            [
             0.1111111111111111,
             "#46039f"
            ],
            [
             0.2222222222222222,
             "#7201a8"
            ],
            [
             0.3333333333333333,
             "#9c179e"
            ],
            [
             0.4444444444444444,
             "#bd3786"
            ],
            [
             0.5555555555555556,
             "#d8576b"
            ],
            [
             0.6666666666666666,
             "#ed7953"
            ],
            [
             0.7777777777777778,
             "#fb9f3a"
            ],
            [
             0.8888888888888888,
             "#fdca26"
            ],
            [
             1,
             "#f0f921"
            ]
           ]
          },
          "colorway": [
           "#636efa",
           "#EF553B",
           "#00cc96",
           "#ab63fa",
           "#FFA15A",
           "#19d3f3",
           "#FF6692",
           "#B6E880",
           "#FF97FF",
           "#FECB52"
          ],
          "font": {
           "color": "#2a3f5f"
          },
          "geo": {
           "bgcolor": "white",
           "lakecolor": "white",
           "landcolor": "white",
           "showlakes": true,
           "showland": true,
           "subunitcolor": "#C8D4E3"
          },
          "hoverlabel": {
           "align": "left"
          },
          "hovermode": "closest",
          "mapbox": {
           "style": "light"
          },
          "paper_bgcolor": "white",
          "plot_bgcolor": "white",
          "polar": {
           "angularaxis": {
            "gridcolor": "#EBF0F8",
            "linecolor": "#EBF0F8",
            "ticks": ""
           },
           "bgcolor": "white",
           "radialaxis": {
            "gridcolor": "#EBF0F8",
            "linecolor": "#EBF0F8",
            "ticks": ""
           }
          },
          "scene": {
           "xaxis": {
            "backgroundcolor": "white",
            "gridcolor": "#DFE8F3",
            "gridwidth": 2,
            "linecolor": "#EBF0F8",
            "showbackground": true,
            "ticks": "",
            "zerolinecolor": "#EBF0F8"
           },
           "yaxis": {
            "backgroundcolor": "white",
            "gridcolor": "#DFE8F3",
            "gridwidth": 2,
            "linecolor": "#EBF0F8",
            "showbackground": true,
            "ticks": "",
            "zerolinecolor": "#EBF0F8"
           },
           "zaxis": {
            "backgroundcolor": "white",
            "gridcolor": "#DFE8F3",
            "gridwidth": 2,
            "linecolor": "#EBF0F8",
            "showbackground": true,
            "ticks": "",
            "zerolinecolor": "#EBF0F8"
           }
          },
          "shapedefaults": {
           "line": {
            "color": "#2a3f5f"
           }
          },
          "ternary": {
           "aaxis": {
            "gridcolor": "#DFE8F3",
            "linecolor": "#A2B1C6",
            "ticks": ""
           },
           "baxis": {
            "gridcolor": "#DFE8F3",
            "linecolor": "#A2B1C6",
            "ticks": ""
           },
           "bgcolor": "white",
           "caxis": {
            "gridcolor": "#DFE8F3",
            "linecolor": "#A2B1C6",
            "ticks": ""
           }
          },
          "title": {
           "x": 0.05
          },
          "xaxis": {
           "automargin": true,
           "gridcolor": "#EBF0F8",
           "linecolor": "#EBF0F8",
           "ticks": "",
           "title": {
            "standoff": 15
           },
           "zerolinecolor": "#EBF0F8",
           "zerolinewidth": 2
          },
          "yaxis": {
           "automargin": true,
           "gridcolor": "#EBF0F8",
           "linecolor": "#EBF0F8",
           "ticks": "",
           "title": {
            "standoff": 15
           },
           "zerolinecolor": "#EBF0F8",
           "zerolinewidth": 2
          }
         }
        },
        "title": {
         "text": "Resultados"
        },
        "xaxis": {
         "rangeslider": {
          "visible": true
         },
         "tickangle": 90,
         "title": {
          "text": "Tiempo"
         }
        },
        "yaxis": {
         "title": {
          "text": "kW"
         }
        }
       }
      }
     },
     "metadata": {},
     "output_type": "display_data"
    }
   ],
   "source": [
    "json_file_in = 'Input/fullweek.json'   # json de entrada a gilda_opts\n",
    "json_file_out = 'Input/fullweek-output.json'   # json con la solución del optimizador\n",
    "initial_hour = \"01:00\"                         # Hora inicial de la ventana de tiempo\n",
    "graph(json_file_in,json_file_out,initial_hour)"
   ]
  }
 ],
 "metadata": {
  "kernelspec": {
   "display_name": "base",
   "language": "python",
   "name": "python3"
  },
  "language_info": {
   "codemirror_mode": {
    "name": "ipython",
    "version": 3
   },
   "file_extension": ".py",
   "mimetype": "text/x-python",
   "name": "python",
   "nbconvert_exporter": "python",
   "pygments_lexer": "ipython3",
   "version": "3.9.13"
  }
 },
 "nbformat": 4,
 "nbformat_minor": 2
}
